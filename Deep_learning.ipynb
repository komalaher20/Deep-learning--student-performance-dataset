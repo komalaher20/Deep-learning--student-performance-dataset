{
  "nbformat": 4,
  "nbformat_minor": 0,
  "metadata": {
    "colab": {
      "name": "Deep learning.ipynb",
      "provenance": [],
      "collapsed_sections": []
    },
    "kernelspec": {
      "name": "python3",
      "display_name": "Python 3"
    },
    "language_info": {
      "name": "python"
    }
  },
  "cells": [
    {
      "cell_type": "code",
      "metadata": {
        "id": "RkNfqboAmP_a"
      },
      "source": [
        "import numpy as np\n",
        "import pandas as pd\n",
        "import matplotlib.pyplot as plt\n",
        "import seaborn as sns\n"
      ],
      "execution_count": null,
      "outputs": []
    },
    {
      "cell_type": "code",
      "metadata": {
        "id": "_o7MkAYHoLuP"
      },
      "source": [
        "import warnings\n",
        "warnings.filterwarnings(\"ignore\")\n",
        "\n",
        "import tensorflow as tf\n",
        "from tensorflow.keras import Sequential #help to initalise ann\n",
        "from tensorflow.keras.layers import Dense #help to create hidden layer\n",
        "from sklearn.metrics import mean_squared_error "
      ],
      "execution_count": null,
      "outputs": []
    },
    {
      "cell_type": "code",
      "metadata": {
        "colab": {
          "base_uri": "https://localhost:8080/",
          "height": 204
        },
        "id": "3k2SPNVmqkd4",
        "outputId": "f714b6d2-69ae-4cb5-b658-fb88e92ab8d5"
      },
      "source": [
        "df=pd.read_csv(\"/content/drive/MyDrive/StudentsPerformance.csv\")\n",
        "df.head()"
      ],
      "execution_count": null,
      "outputs": [
        {
          "output_type": "execute_result",
          "data": {
            "text/html": [
              "<div>\n",
              "<style scoped>\n",
              "    .dataframe tbody tr th:only-of-type {\n",
              "        vertical-align: middle;\n",
              "    }\n",
              "\n",
              "    .dataframe tbody tr th {\n",
              "        vertical-align: top;\n",
              "    }\n",
              "\n",
              "    .dataframe thead th {\n",
              "        text-align: right;\n",
              "    }\n",
              "</style>\n",
              "<table border=\"1\" class=\"dataframe\">\n",
              "  <thead>\n",
              "    <tr style=\"text-align: right;\">\n",
              "      <th></th>\n",
              "      <th>gender</th>\n",
              "      <th>race/ethnicity</th>\n",
              "      <th>parental level of education</th>\n",
              "      <th>lunch</th>\n",
              "      <th>test preparation course</th>\n",
              "      <th>math score</th>\n",
              "      <th>reading score</th>\n",
              "      <th>writing score</th>\n",
              "    </tr>\n",
              "  </thead>\n",
              "  <tbody>\n",
              "    <tr>\n",
              "      <th>0</th>\n",
              "      <td>female</td>\n",
              "      <td>group B</td>\n",
              "      <td>bachelor's degree</td>\n",
              "      <td>standard</td>\n",
              "      <td>none</td>\n",
              "      <td>72</td>\n",
              "      <td>72</td>\n",
              "      <td>74</td>\n",
              "    </tr>\n",
              "    <tr>\n",
              "      <th>1</th>\n",
              "      <td>female</td>\n",
              "      <td>group C</td>\n",
              "      <td>some college</td>\n",
              "      <td>standard</td>\n",
              "      <td>completed</td>\n",
              "      <td>69</td>\n",
              "      <td>90</td>\n",
              "      <td>88</td>\n",
              "    </tr>\n",
              "    <tr>\n",
              "      <th>2</th>\n",
              "      <td>female</td>\n",
              "      <td>group B</td>\n",
              "      <td>master's degree</td>\n",
              "      <td>standard</td>\n",
              "      <td>none</td>\n",
              "      <td>90</td>\n",
              "      <td>95</td>\n",
              "      <td>93</td>\n",
              "    </tr>\n",
              "    <tr>\n",
              "      <th>3</th>\n",
              "      <td>male</td>\n",
              "      <td>group A</td>\n",
              "      <td>associate's degree</td>\n",
              "      <td>free/reduced</td>\n",
              "      <td>none</td>\n",
              "      <td>47</td>\n",
              "      <td>57</td>\n",
              "      <td>44</td>\n",
              "    </tr>\n",
              "    <tr>\n",
              "      <th>4</th>\n",
              "      <td>male</td>\n",
              "      <td>group C</td>\n",
              "      <td>some college</td>\n",
              "      <td>standard</td>\n",
              "      <td>none</td>\n",
              "      <td>76</td>\n",
              "      <td>78</td>\n",
              "      <td>75</td>\n",
              "    </tr>\n",
              "  </tbody>\n",
              "</table>\n",
              "</div>"
            ],
            "text/plain": [
              "   gender race/ethnicity  ... reading score writing score\n",
              "0  female        group B  ...            72            74\n",
              "1  female        group C  ...            90            88\n",
              "2  female        group B  ...            95            93\n",
              "3    male        group A  ...            57            44\n",
              "4    male        group C  ...            78            75\n",
              "\n",
              "[5 rows x 8 columns]"
            ]
          },
          "metadata": {},
          "execution_count": 99
        }
      ]
    },
    {
      "cell_type": "code",
      "metadata": {
        "id": "AusSRKUnjuV3",
        "colab": {
          "base_uri": "https://localhost:8080/",
          "height": 297
        },
        "outputId": "c648826f-4565-4136-a9c0-9ba99cffc6d8"
      },
      "source": [
        "df.describe()"
      ],
      "execution_count": null,
      "outputs": [
        {
          "output_type": "execute_result",
          "data": {
            "text/html": [
              "<div>\n",
              "<style scoped>\n",
              "    .dataframe tbody tr th:only-of-type {\n",
              "        vertical-align: middle;\n",
              "    }\n",
              "\n",
              "    .dataframe tbody tr th {\n",
              "        vertical-align: top;\n",
              "    }\n",
              "\n",
              "    .dataframe thead th {\n",
              "        text-align: right;\n",
              "    }\n",
              "</style>\n",
              "<table border=\"1\" class=\"dataframe\">\n",
              "  <thead>\n",
              "    <tr style=\"text-align: right;\">\n",
              "      <th></th>\n",
              "      <th>math score</th>\n",
              "      <th>reading score</th>\n",
              "      <th>writing score</th>\n",
              "    </tr>\n",
              "  </thead>\n",
              "  <tbody>\n",
              "    <tr>\n",
              "      <th>count</th>\n",
              "      <td>1000.00000</td>\n",
              "      <td>1000.000000</td>\n",
              "      <td>1000.000000</td>\n",
              "    </tr>\n",
              "    <tr>\n",
              "      <th>mean</th>\n",
              "      <td>66.08900</td>\n",
              "      <td>69.169000</td>\n",
              "      <td>68.054000</td>\n",
              "    </tr>\n",
              "    <tr>\n",
              "      <th>std</th>\n",
              "      <td>15.16308</td>\n",
              "      <td>14.600192</td>\n",
              "      <td>15.195657</td>\n",
              "    </tr>\n",
              "    <tr>\n",
              "      <th>min</th>\n",
              "      <td>0.00000</td>\n",
              "      <td>17.000000</td>\n",
              "      <td>10.000000</td>\n",
              "    </tr>\n",
              "    <tr>\n",
              "      <th>25%</th>\n",
              "      <td>57.00000</td>\n",
              "      <td>59.000000</td>\n",
              "      <td>57.750000</td>\n",
              "    </tr>\n",
              "    <tr>\n",
              "      <th>50%</th>\n",
              "      <td>66.00000</td>\n",
              "      <td>70.000000</td>\n",
              "      <td>69.000000</td>\n",
              "    </tr>\n",
              "    <tr>\n",
              "      <th>75%</th>\n",
              "      <td>77.00000</td>\n",
              "      <td>79.000000</td>\n",
              "      <td>79.000000</td>\n",
              "    </tr>\n",
              "    <tr>\n",
              "      <th>max</th>\n",
              "      <td>100.00000</td>\n",
              "      <td>100.000000</td>\n",
              "      <td>100.000000</td>\n",
              "    </tr>\n",
              "  </tbody>\n",
              "</table>\n",
              "</div>"
            ],
            "text/plain": [
              "       math score  reading score  writing score\n",
              "count  1000.00000    1000.000000    1000.000000\n",
              "mean     66.08900      69.169000      68.054000\n",
              "std      15.16308      14.600192      15.195657\n",
              "min       0.00000      17.000000      10.000000\n",
              "25%      57.00000      59.000000      57.750000\n",
              "50%      66.00000      70.000000      69.000000\n",
              "75%      77.00000      79.000000      79.000000\n",
              "max     100.00000     100.000000     100.000000"
            ]
          },
          "metadata": {},
          "execution_count": 100
        }
      ]
    },
    {
      "cell_type": "code",
      "metadata": {
        "id": "Q9vwoBYe5an0",
        "colab": {
          "base_uri": "https://localhost:8080/",
          "height": 142
        },
        "outputId": "7b82ac62-5117-4dcc-cb08-8694067f2272"
      },
      "source": [
        "df.corr()"
      ],
      "execution_count": null,
      "outputs": [
        {
          "output_type": "execute_result",
          "data": {
            "text/html": [
              "<div>\n",
              "<style scoped>\n",
              "    .dataframe tbody tr th:only-of-type {\n",
              "        vertical-align: middle;\n",
              "    }\n",
              "\n",
              "    .dataframe tbody tr th {\n",
              "        vertical-align: top;\n",
              "    }\n",
              "\n",
              "    .dataframe thead th {\n",
              "        text-align: right;\n",
              "    }\n",
              "</style>\n",
              "<table border=\"1\" class=\"dataframe\">\n",
              "  <thead>\n",
              "    <tr style=\"text-align: right;\">\n",
              "      <th></th>\n",
              "      <th>math score</th>\n",
              "      <th>reading score</th>\n",
              "      <th>writing score</th>\n",
              "    </tr>\n",
              "  </thead>\n",
              "  <tbody>\n",
              "    <tr>\n",
              "      <th>math score</th>\n",
              "      <td>1.000000</td>\n",
              "      <td>0.817580</td>\n",
              "      <td>0.802642</td>\n",
              "    </tr>\n",
              "    <tr>\n",
              "      <th>reading score</th>\n",
              "      <td>0.817580</td>\n",
              "      <td>1.000000</td>\n",
              "      <td>0.954598</td>\n",
              "    </tr>\n",
              "    <tr>\n",
              "      <th>writing score</th>\n",
              "      <td>0.802642</td>\n",
              "      <td>0.954598</td>\n",
              "      <td>1.000000</td>\n",
              "    </tr>\n",
              "  </tbody>\n",
              "</table>\n",
              "</div>"
            ],
            "text/plain": [
              "               math score  reading score  writing score\n",
              "math score       1.000000       0.817580       0.802642\n",
              "reading score    0.817580       1.000000       0.954598\n",
              "writing score    0.802642       0.954598       1.000000"
            ]
          },
          "metadata": {},
          "execution_count": 101
        }
      ]
    },
    {
      "cell_type": "code",
      "metadata": {
        "colab": {
          "base_uri": "https://localhost:8080/",
          "height": 487
        },
        "id": "L2sPbj1Ip66K",
        "outputId": "ba852c9e-bf39-4573-b882-488c4e52c79b"
      },
      "source": [
        "plt.figure(figsize=(12,8))\n",
        "sns.heatmap(df.corr(),annot=True,cmap=\"PuBuGn\")\n",
        "correlation = df.corr() "
      ],
      "execution_count": null,
      "outputs": [
        {
          "output_type": "display_data",
          "data": {
            "image/png": "[encoded data removed]",
            "text/plain": [
              "<Figure size 864x576 with 2 Axes>"
            ]
          },
          "metadata": {}
        }
      ]
    },
    {
      "cell_type": "code",
      "metadata": {
        "id": "cVSgw8e4juY1",
        "colab": {
          "base_uri": "https://localhost:8080/"
        },
        "outputId": "a766dccf-c976-423e-f831-f57058b5a9a7"
      },
      "source": [
        "df.info()"
      ],
      "execution_count": null,
      "outputs": [
        {
          "output_type": "stream",
          "name": "stdout",
          "text": [
            "<class 'pandas.core.frame.DataFrame'>\n",
            "RangeIndex: 1000 entries, 0 to 999\n",
            "Data columns (total 8 columns):\n",
            " #   Column                       Non-Null Count  Dtype \n",
            "---  ------                       --------------  ----- \n",
            " 0   gender                       1000 non-null   object\n",
            " 1   race/ethnicity               1000 non-null   object\n",
            " 2   parental level of education  1000 non-null   object\n",
            " 3   lunch                        1000 non-null   object\n",
            " 4   test preparation course      1000 non-null   object\n",
            " 5   math score                   1000 non-null   int64 \n",
            " 6   reading score                1000 non-null   int64 \n",
            " 7   writing score                1000 non-null   int64 \n",
            "dtypes: int64(3), object(5)\n",
            "memory usage: 62.6+ KB\n"
          ]
        }
      ]
    },
    {
      "cell_type": "code",
      "metadata": {
        "colab": {
          "base_uri": "https://localhost:8080/"
        },
        "id": "CYER31fkv4Ub",
        "outputId": "3ebc9a2c-9273-434d-f7c9-b8fc6e9c7466"
      },
      "source": [
        "df.isnull().sum()"
      ],
      "execution_count": null,
      "outputs": [
        {
          "output_type": "execute_result",
          "data": {
            "text/plain": [
              "gender                         0\n",
              "race/ethnicity                 0\n",
              "parental level of education    0\n",
              "lunch                          0\n",
              "test preparation course        0\n",
              "math score                     0\n",
              "reading score                  0\n",
              "writing score                  0\n",
              "dtype: int64"
            ]
          },
          "metadata": {},
          "execution_count": 104
        }
      ]
    },
    {
      "cell_type": "code",
      "metadata": {
        "id": "vYzMJY6cjucK",
        "colab": {
          "base_uri": "https://localhost:8080/"
        },
        "outputId": "646827f4-7cc0-472e-83a0-c1a6a47aa8d4"
      },
      "source": [
        "df['gender'].value_counts()"
      ],
      "execution_count": null,
      "outputs": [
        {
          "output_type": "execute_result",
          "data": {
            "text/plain": [
              "female    518\n",
              "male      482\n",
              "Name: gender, dtype: int64"
            ]
          },
          "metadata": {},
          "execution_count": 105
        }
      ]
    },
    {
      "cell_type": "code",
      "metadata": {
        "id": "Q25DOn5ijufK",
        "colab": {
          "base_uri": "https://localhost:8080/",
          "height": 366
        },
        "outputId": "f670f953-5273-4e30-ba73-67466f59f581"
      },
      "source": [
        "sns.catplot(x='gender',kind='count',data=df,height=4.5,palette='viridis')\n",
        "plt.title('Gender')"
      ],
      "execution_count": null,
      "outputs": [
        {
          "output_type": "execute_result",
          "data": {
            "text/plain": [
              "Text(0.5, 1.0, 'Gender')"
            ]
          },
          "metadata": {},
          "execution_count": 106
        },
        {
          "output_type": "display_data",
          "data": {
            "image/png": "[encoded data removed]",
            "text/plain": [
              "<Figure size 324x324 with 1 Axes>"
            ]
          },
          "metadata": {}
        }
      ]
    },
    {
      "cell_type": "code",
      "metadata": {
        "id": "mpv6wLSOjuiV",
        "colab": {
          "base_uri": "https://localhost:8080/"
        },
        "outputId": "dc69f5aa-d93a-4aaf-f542-2748c8538699"
      },
      "source": [
        "df['race/ethnicity'].value_counts()"
      ],
      "execution_count": null,
      "outputs": [
        {
          "output_type": "execute_result",
          "data": {
            "text/plain": [
              "group C    319\n",
              "group D    262\n",
              "group B    190\n",
              "group E    140\n",
              "group A     89\n",
              "Name: race/ethnicity, dtype: int64"
            ]
          },
          "metadata": {},
          "execution_count": 107
        }
      ]
    },
    {
      "cell_type": "code",
      "metadata": {
        "id": "EV09t-88lRZs",
        "colab": {
          "base_uri": "https://localhost:8080/",
          "height": 350
        },
        "outputId": "5ef08640-2940-4ab2-fa91-1a12bec3f796"
      },
      "source": [
        "df[\"race/ethnicity\"].sort_values()\n",
        "sns.catplot(x='race/ethnicity',kind='count',data=df,height=4.5,palette='viridis',\n",
        "            order=['group A','group B','group C','group D','group E'])"
      ],
      "execution_count": null,
      "outputs": [
        {
          "output_type": "execute_result",
          "data": {
            "text/plain": [
              "<seaborn.axisgrid.FacetGrid at 0x7f5b221aa290>"
            ]
          },
          "metadata": {},
          "execution_count": 108
        },
        {
          "output_type": "display_data",
          "data": {
            "image/png": "[encoded data removed]",
            "text/plain": [
              "<Figure size 324x324 with 1 Axes>"
            ]
          },
          "metadata": {}
        }
      ]
    },
    {
      "cell_type": "code",
      "metadata": {
        "id": "RjGIEIjblRfd",
        "colab": {
          "base_uri": "https://localhost:8080/"
        },
        "outputId": "17ee406f-671a-4372-ceb9-ad70c18b7abf"
      },
      "source": [
        "df['lunch'].value_counts()"
      ],
      "execution_count": null,
      "outputs": [
        {
          "output_type": "execute_result",
          "data": {
            "text/plain": [
              "standard        645\n",
              "free/reduced    355\n",
              "Name: lunch, dtype: int64"
            ]
          },
          "metadata": {},
          "execution_count": 109
        }
      ]
    },
    {
      "cell_type": "code",
      "metadata": {
        "id": "EhumnQFGlpZr",
        "colab": {
          "base_uri": "https://localhost:8080/",
          "height": 350
        },
        "outputId": "8c4ea160-35db-419d-84d7-ce681b094c74"
      },
      "source": [
        "sns.catplot(x='lunch',kind='count',data=df,height=4.5,palette='viridis')"
      ],
      "execution_count": null,
      "outputs": [
        {
          "output_type": "execute_result",
          "data": {
            "text/plain": [
              "<seaborn.axisgrid.FacetGrid at 0x7f5b22222110>"
            ]
          },
          "metadata": {},
          "execution_count": 110
        },
        {
          "output_type": "display_data",
          "data": {
            "image/png": "[encoded data removed]",
            "text/plain": [
              "<Figure size 324x324 with 1 Axes>"
            ]
          },
          "metadata": {}
        }
      ]
    },
    {
      "cell_type": "code",
      "metadata": {
        "id": "8uVO4pPLlvOT",
        "colab": {
          "base_uri": "https://localhost:8080/"
        },
        "outputId": "e2e58627-7c66-4bc0-a45b-2312e2e3480f"
      },
      "source": [
        "df['test preparation course'].value_counts()"
      ],
      "execution_count": null,
      "outputs": [
        {
          "output_type": "execute_result",
          "data": {
            "text/plain": [
              "none         642\n",
              "completed    358\n",
              "Name: test preparation course, dtype: int64"
            ]
          },
          "metadata": {},
          "execution_count": 111
        }
      ]
    },
    {
      "cell_type": "code",
      "metadata": {
        "id": "-lnrWF6ZmGfI",
        "colab": {
          "base_uri": "https://localhost:8080/",
          "height": 350
        },
        "outputId": "bcc22d4a-bf65-4477-ade6-68c324f5021f"
      },
      "source": [
        "sns.catplot(x='test preparation course',kind='count',data=df,height=4.5,palette='viridis')"
      ],
      "execution_count": null,
      "outputs": [
        {
          "output_type": "execute_result",
          "data": {
            "text/plain": [
              "<seaborn.axisgrid.FacetGrid at 0x7f5b35b48bd0>"
            ]
          },
          "metadata": {},
          "execution_count": 112
        },
        {
          "output_type": "display_data",
          "data": {
            "image/png": "[encoded data removed]",
            "text/plain": [
              "<Figure size 324x324 with 1 Axes>"
            ]
          },
          "metadata": {}
        }
      ]
    },
    {
      "cell_type": "code",
      "metadata": {
        "id": "1Cq398dZmGtO",
        "colab": {
          "base_uri": "https://localhost:8080/"
        },
        "outputId": "474f6b47-0970-4715-936c-3d6b88727a0c"
      },
      "source": [
        "df['parental level of education'].value_counts()"
      ],
      "execution_count": null,
      "outputs": [
        {
          "output_type": "execute_result",
          "data": {
            "text/plain": [
              "some college          226\n",
              "associate's degree    222\n",
              "high school           196\n",
              "some high school      179\n",
              "bachelor's degree     118\n",
              "master's degree        59\n",
              "Name: parental level of education, dtype: int64"
            ]
          },
          "metadata": {},
          "execution_count": 113
        }
      ]
    },
    {
      "cell_type": "code",
      "metadata": {
        "id": "zS08ooLDm6Ei",
        "colab": {
          "base_uri": "https://localhost:8080/",
          "height": 350
        },
        "outputId": "662b8cf6-d471-4752-d0c2-f4add1ce97a6"
      },
      "source": [
        "df[\"race/ethnicity\"].sort_values()\n",
        "sns.catplot(x='parental level of education',kind='count',data=df,height=4.5,aspect=2,palette='viridis',\n",
        "            order=[\"some high school\",\"high school\",\"associate's degree\",\"some college\",\n",
        "                   \"bachelor's degree\",\"master's degree\"],)"
      ],
      "execution_count": null,
      "outputs": [
        {
          "output_type": "execute_result",
          "data": {
            "text/plain": [
              "<seaborn.axisgrid.FacetGrid at 0x7f5b323cb7d0>"
            ]
          },
          "metadata": {},
          "execution_count": 114
        },
        {
          "output_type": "display_data",
          "data": {
            "image/png": "[encoded data removed]",
            "text/plain": [
              "<Figure size 648x324 with 1 Axes>"
            ]
          },
          "metadata": {}
        }
      ]
    },
    {
      "cell_type": "code",
      "metadata": {
        "id": "iIrn8jE2KMUl",
        "colab": {
          "base_uri": "https://localhost:8080/",
          "height": 204
        },
        "outputId": "2a8d8b0c-36bb-4235-e6fb-8378c8ab7210"
      },
      "source": [
        "df[\"average\"]=df[[\"math score\", \"reading score\", \"writing score\"]].mean(axis=1)\n",
        "df.head()"
      ],
      "execution_count": null,
      "outputs": [
        {
          "output_type": "execute_result",
          "data": {
            "text/html": [
              "<div>\n",
              "<style scoped>\n",
              "    .dataframe tbody tr th:only-of-type {\n",
              "        vertical-align: middle;\n",
              "    }\n",
              "\n",
              "    .dataframe tbody tr th {\n",
              "        vertical-align: top;\n",
              "    }\n",
              "\n",
              "    .dataframe thead th {\n",
              "        text-align: right;\n",
              "    }\n",
              "</style>\n",
              "<table border=\"1\" class=\"dataframe\">\n",
              "  <thead>\n",
              "    <tr style=\"text-align: right;\">\n",
              "      <th></th>\n",
              "      <th>gender</th>\n",
              "      <th>race/ethnicity</th>\n",
              "      <th>parental level of education</th>\n",
              "      <th>lunch</th>\n",
              "      <th>test preparation course</th>\n",
              "      <th>math score</th>\n",
              "      <th>reading score</th>\n",
              "      <th>writing score</th>\n",
              "      <th>average</th>\n",
              "    </tr>\n",
              "  </thead>\n",
              "  <tbody>\n",
              "    <tr>\n",
              "      <th>0</th>\n",
              "      <td>female</td>\n",
              "      <td>group B</td>\n",
              "      <td>bachelor's degree</td>\n",
              "      <td>standard</td>\n",
              "      <td>none</td>\n",
              "      <td>72</td>\n",
              "      <td>72</td>\n",
              "      <td>74</td>\n",
              "      <td>72.666667</td>\n",
              "    </tr>\n",
              "    <tr>\n",
              "      <th>1</th>\n",
              "      <td>female</td>\n",
              "      <td>group C</td>\n",
              "      <td>some college</td>\n",
              "      <td>standard</td>\n",
              "      <td>completed</td>\n",
              "      <td>69</td>\n",
              "      <td>90</td>\n",
              "      <td>88</td>\n",
              "      <td>82.333333</td>\n",
              "    </tr>\n",
              "    <tr>\n",
              "      <th>2</th>\n",
              "      <td>female</td>\n",
              "      <td>group B</td>\n",
              "      <td>master's degree</td>\n",
              "      <td>standard</td>\n",
              "      <td>none</td>\n",
              "      <td>90</td>\n",
              "      <td>95</td>\n",
              "      <td>93</td>\n",
              "      <td>92.666667</td>\n",
              "    </tr>\n",
              "    <tr>\n",
              "      <th>3</th>\n",
              "      <td>male</td>\n",
              "      <td>group A</td>\n",
              "      <td>associate's degree</td>\n",
              "      <td>free/reduced</td>\n",
              "      <td>none</td>\n",
              "      <td>47</td>\n",
              "      <td>57</td>\n",
              "      <td>44</td>\n",
              "      <td>49.333333</td>\n",
              "    </tr>\n",
              "    <tr>\n",
              "      <th>4</th>\n",
              "      <td>male</td>\n",
              "      <td>group C</td>\n",
              "      <td>some college</td>\n",
              "      <td>standard</td>\n",
              "      <td>none</td>\n",
              "      <td>76</td>\n",
              "      <td>78</td>\n",
              "      <td>75</td>\n",
              "      <td>76.333333</td>\n",
              "    </tr>\n",
              "  </tbody>\n",
              "</table>\n",
              "</div>"
            ],
            "text/plain": [
              "   gender race/ethnicity  ... writing score    average\n",
              "0  female        group B  ...            74  72.666667\n",
              "1  female        group C  ...            88  82.333333\n",
              "2  female        group B  ...            93  92.666667\n",
              "3    male        group A  ...            44  49.333333\n",
              "4    male        group C  ...            75  76.333333\n",
              "\n",
              "[5 rows x 9 columns]"
            ]
          },
          "metadata": {},
          "execution_count": 115
        }
      ]
    },
    {
      "cell_type": "code",
      "metadata": {
        "id": "z7gMtcqexKyS",
        "colab": {
          "base_uri": "https://localhost:8080/",
          "height": 204
        },
        "outputId": "cb2751ea-55e5-452f-8246-326d73b0897b"
      },
      "source": [
        "df[\"total_score\"]=df[\"math score\"]+df[\"reading score\"]+df[\"writing score\"]\n",
        "df.head()"
      ],
      "execution_count": null,
      "outputs": [
        {
          "output_type": "execute_result",
          "data": {
            "text/html": [
              "<div>\n",
              "<style scoped>\n",
              "    .dataframe tbody tr th:only-of-type {\n",
              "        vertical-align: middle;\n",
              "    }\n",
              "\n",
              "    .dataframe tbody tr th {\n",
              "        vertical-align: top;\n",
              "    }\n",
              "\n",
              "    .dataframe thead th {\n",
              "        text-align: right;\n",
              "    }\n",
              "</style>\n",
              "<table border=\"1\" class=\"dataframe\">\n",
              "  <thead>\n",
              "    <tr style=\"text-align: right;\">\n",
              "      <th></th>\n",
              "      <th>gender</th>\n",
              "      <th>race/ethnicity</th>\n",
              "      <th>parental level of education</th>\n",
              "      <th>lunch</th>\n",
              "      <th>test preparation course</th>\n",
              "      <th>math score</th>\n",
              "      <th>reading score</th>\n",
              "      <th>writing score</th>\n",
              "      <th>average</th>\n",
              "      <th>total_score</th>\n",
              "    </tr>\n",
              "  </thead>\n",
              "  <tbody>\n",
              "    <tr>\n",
              "      <th>0</th>\n",
              "      <td>female</td>\n",
              "      <td>group B</td>\n",
              "      <td>bachelor's degree</td>\n",
              "      <td>standard</td>\n",
              "      <td>none</td>\n",
              "      <td>72</td>\n",
              "      <td>72</td>\n",
              "      <td>74</td>\n",
              "      <td>72.666667</td>\n",
              "      <td>218</td>\n",
              "    </tr>\n",
              "    <tr>\n",
              "      <th>1</th>\n",
              "      <td>female</td>\n",
              "      <td>group C</td>\n",
              "      <td>some college</td>\n",
              "      <td>standard</td>\n",
              "      <td>completed</td>\n",
              "      <td>69</td>\n",
              "      <td>90</td>\n",
              "      <td>88</td>\n",
              "      <td>82.333333</td>\n",
              "      <td>247</td>\n",
              "    </tr>\n",
              "    <tr>\n",
              "      <th>2</th>\n",
              "      <td>female</td>\n",
              "      <td>group B</td>\n",
              "      <td>master's degree</td>\n",
              "      <td>standard</td>\n",
              "      <td>none</td>\n",
              "      <td>90</td>\n",
              "      <td>95</td>\n",
              "      <td>93</td>\n",
              "      <td>92.666667</td>\n",
              "      <td>278</td>\n",
              "    </tr>\n",
              "    <tr>\n",
              "      <th>3</th>\n",
              "      <td>male</td>\n",
              "      <td>group A</td>\n",
              "      <td>associate's degree</td>\n",
              "      <td>free/reduced</td>\n",
              "      <td>none</td>\n",
              "      <td>47</td>\n",
              "      <td>57</td>\n",
              "      <td>44</td>\n",
              "      <td>49.333333</td>\n",
              "      <td>148</td>\n",
              "    </tr>\n",
              "    <tr>\n",
              "      <th>4</th>\n",
              "      <td>male</td>\n",
              "      <td>group C</td>\n",
              "      <td>some college</td>\n",
              "      <td>standard</td>\n",
              "      <td>none</td>\n",
              "      <td>76</td>\n",
              "      <td>78</td>\n",
              "      <td>75</td>\n",
              "      <td>76.333333</td>\n",
              "      <td>229</td>\n",
              "    </tr>\n",
              "  </tbody>\n",
              "</table>\n",
              "</div>"
            ],
            "text/plain": [
              "   gender race/ethnicity  ...    average total_score\n",
              "0  female        group B  ...  72.666667         218\n",
              "1  female        group C  ...  82.333333         247\n",
              "2  female        group B  ...  92.666667         278\n",
              "3    male        group A  ...  49.333333         148\n",
              "4    male        group C  ...  76.333333         229\n",
              "\n",
              "[5 rows x 10 columns]"
            ]
          },
          "metadata": {},
          "execution_count": 116
        }
      ]
    },
    {
      "cell_type": "code",
      "metadata": {
        "id": "GZEXAHGGwwHK"
      },
      "source": [
        "from sklearn.preprocessing import LabelEncoder\n",
        "df_categorical=[\"gender\", \"race/ethnicity\", \"parental level of education\",\"lunch\", \"test preparation course\"]\n",
        "le=LabelEncoder()\n",
        "\n",
        "for i in df_categorical:\n",
        "    df[i]=le.fit_transform(df[i])\n",
        "    "
      ],
      "execution_count": null,
      "outputs": []
    },
    {
      "cell_type": "code",
      "metadata": {
        "colab": {
          "base_uri": "https://localhost:8080/",
          "height": 204
        },
        "id": "YExvMOE95pWy",
        "outputId": "bb0fef42-8621-465b-9b81-80cd970bd067"
      },
      "source": [
        "df.drop(\"total_score\",axis=1,inplace=True)\n",
        "df.head()"
      ],
      "execution_count": null,
      "outputs": [
        {
          "output_type": "execute_result",
          "data": {
            "text/html": [
              "<div>\n",
              "<style scoped>\n",
              "    .dataframe tbody tr th:only-of-type {\n",
              "        vertical-align: middle;\n",
              "    }\n",
              "\n",
              "    .dataframe tbody tr th {\n",
              "        vertical-align: top;\n",
              "    }\n",
              "\n",
              "    .dataframe thead th {\n",
              "        text-align: right;\n",
              "    }\n",
              "</style>\n",
              "<table border=\"1\" class=\"dataframe\">\n",
              "  <thead>\n",
              "    <tr style=\"text-align: right;\">\n",
              "      <th></th>\n",
              "      <th>gender</th>\n",
              "      <th>race/ethnicity</th>\n",
              "      <th>parental level of education</th>\n",
              "      <th>lunch</th>\n",
              "      <th>test preparation course</th>\n",
              "      <th>math score</th>\n",
              "      <th>reading score</th>\n",
              "      <th>writing score</th>\n",
              "      <th>average</th>\n",
              "    </tr>\n",
              "  </thead>\n",
              "  <tbody>\n",
              "    <tr>\n",
              "      <th>0</th>\n",
              "      <td>0</td>\n",
              "      <td>1</td>\n",
              "      <td>1</td>\n",
              "      <td>1</td>\n",
              "      <td>1</td>\n",
              "      <td>72</td>\n",
              "      <td>72</td>\n",
              "      <td>74</td>\n",
              "      <td>72.666667</td>\n",
              "    </tr>\n",
              "    <tr>\n",
              "      <th>1</th>\n",
              "      <td>0</td>\n",
              "      <td>2</td>\n",
              "      <td>4</td>\n",
              "      <td>1</td>\n",
              "      <td>0</td>\n",
              "      <td>69</td>\n",
              "      <td>90</td>\n",
              "      <td>88</td>\n",
              "      <td>82.333333</td>\n",
              "    </tr>\n",
              "    <tr>\n",
              "      <th>2</th>\n",
              "      <td>0</td>\n",
              "      <td>1</td>\n",
              "      <td>3</td>\n",
              "      <td>1</td>\n",
              "      <td>1</td>\n",
              "      <td>90</td>\n",
              "      <td>95</td>\n",
              "      <td>93</td>\n",
              "      <td>92.666667</td>\n",
              "    </tr>\n",
              "    <tr>\n",
              "      <th>3</th>\n",
              "      <td>1</td>\n",
              "      <td>0</td>\n",
              "      <td>0</td>\n",
              "      <td>0</td>\n",
              "      <td>1</td>\n",
              "      <td>47</td>\n",
              "      <td>57</td>\n",
              "      <td>44</td>\n",
              "      <td>49.333333</td>\n",
              "    </tr>\n",
              "    <tr>\n",
              "      <th>4</th>\n",
              "      <td>1</td>\n",
              "      <td>2</td>\n",
              "      <td>4</td>\n",
              "      <td>1</td>\n",
              "      <td>1</td>\n",
              "      <td>76</td>\n",
              "      <td>78</td>\n",
              "      <td>75</td>\n",
              "      <td>76.333333</td>\n",
              "    </tr>\n",
              "  </tbody>\n",
              "</table>\n",
              "</div>"
            ],
            "text/plain": [
              "   gender  race/ethnicity  ...  writing score    average\n",
              "0       0               1  ...             74  72.666667\n",
              "1       0               2  ...             88  82.333333\n",
              "2       0               1  ...             93  92.666667\n",
              "3       1               0  ...             44  49.333333\n",
              "4       1               2  ...             75  76.333333\n",
              "\n",
              "[5 rows x 9 columns]"
            ]
          },
          "metadata": {},
          "execution_count": 118
        }
      ]
    },
    {
      "cell_type": "code",
      "metadata": {
        "colab": {
          "base_uri": "https://localhost:8080/"
        },
        "id": "4hXA_NS-7MPx",
        "outputId": "c5724ccc-60ec-4a5d-cd54-0218cbca7162"
      },
      "source": [
        "df.shape"
      ],
      "execution_count": null,
      "outputs": [
        {
          "output_type": "execute_result",
          "data": {
            "text/plain": [
              "(1000, 9)"
            ]
          },
          "metadata": {},
          "execution_count": 119
        }
      ]
    },
    {
      "cell_type": "code",
      "metadata": {
        "colab": {
          "base_uri": "https://localhost:8080/"
        },
        "id": "aIcwV-R47TFf",
        "outputId": "9dbb2491-ab12-4362-cd26-af8d8b397d8c"
      },
      "source": [
        "x=df.iloc[:,0:8].values\n",
        "x"
      ],
      "execution_count": null,
      "outputs": [
        {
          "output_type": "execute_result",
          "data": {
            "text/plain": [
              "array([[ 0,  1,  1, ..., 72, 72, 74],\n",
              "       [ 0,  2,  4, ..., 69, 90, 88],\n",
              "       [ 0,  1,  3, ..., 90, 95, 93],\n",
              "       ...,\n",
              "       [ 0,  2,  2, ..., 59, 71, 65],\n",
              "       [ 0,  3,  4, ..., 68, 78, 77],\n",
              "       [ 0,  3,  4, ..., 77, 86, 86]])"
            ]
          },
          "metadata": {},
          "execution_count": 120
        }
      ]
    },
    {
      "cell_type": "code",
      "metadata": {
        "colab": {
          "base_uri": "https://localhost:8080/"
        },
        "id": "Z-rjBcQw7gla",
        "outputId": "af05761e-83ff-48fa-8146-596ee92359b1"
      },
      "source": [
        "y=df.iloc[:,-1].values\n",
        "y"
      ],
      "execution_count": null,
      "outputs": [
        {
          "output_type": "execute_result",
          "data": {
            "text/plain": [
              "array([ 72.66666667,  82.33333333,  92.66666667,  49.33333333,\n",
              "        76.33333333,  77.33333333,  91.66666667,  40.66666667,\n",
              "        65.        ,  49.33333333,  54.66666667,  45.        ,\n",
              "        73.        ,  73.33333333,  53.66666667,  74.        ,\n",
              "        87.66666667,  26.        ,  44.66666667,  57.66666667,\n",
              "        66.        ,  70.        ,  50.33333333,  71.66666667,\n",
              "        75.        ,  73.        ,  59.33333333,  70.33333333,\n",
              "        68.33333333,  69.        ,  72.33333333,  63.        ,\n",
              "        64.33333333,  40.        ,  88.66666667,  80.33333333,\n",
              "        79.33333333,  57.66666667,  84.33333333,  56.66666667,\n",
              "        56.66666667,  66.33333333,  58.66666667,  63.33333333,\n",
              "        53.33333333,  58.66666667,  60.66666667,  71.        ,\n",
              "        69.        ,  82.66666667,  52.        ,  71.33333333,\n",
              "        46.33333333,  80.33333333,  80.66666667,  39.        ,\n",
              "        84.33333333,  52.        ,  58.33333333,   9.        ,\n",
              "        75.        ,  37.33333333,  59.33333333,  73.33333333,\n",
              "        58.66666667,  64.        ,  39.66666667,  68.66666667,\n",
              "        58.33333333,  53.33333333,  64.66666667,  60.33333333,\n",
              "        46.66666667,  58.        ,  46.33333333,  41.        ,\n",
              "        26.        ,  79.66666667,  69.        ,  66.        ,\n",
              "        48.66666667,  46.33333333,  50.33333333,  66.33333333,\n",
              "        38.33333333,  78.33333333,  82.33333333,  72.        ,\n",
              "        65.        ,  80.33333333,  70.33333333,  32.33333333,\n",
              "        73.66666667,  46.        ,  85.66666667,  80.33333333,\n",
              "        64.33333333,  68.33333333,  62.33333333,  64.66666667,\n",
              "        71.        ,  72.        ,  88.33333333,  50.33333333,\n",
              "        91.33333333,  65.66666667,  95.66666667,  64.33333333,\n",
              "        66.        ,  68.66666667,  88.        ,  55.33333333,\n",
              "        51.33333333,  54.33333333,  99.66666667,  78.33333333,\n",
              "        80.66666667,  79.66666667,  58.33333333,  63.        ,\n",
              "        86.66666667,  90.66666667,  91.33333333,  58.66666667,\n",
              "        78.66666667,  89.33333333,  69.        ,  72.        ,\n",
              "        79.33333333,  50.33333333,  85.        ,  43.33333333,\n",
              "        77.        ,  80.        ,  76.        ,  53.66666667,\n",
              "        48.66666667,  60.33333333,  64.        ,  67.        ,\n",
              "        73.        ,  61.66666667,  50.33333333,  49.        ,\n",
              "        79.66666667,  31.33333333,  82.33333333,  69.        ,\n",
              "        74.66666667,  97.66666667,  66.        ,  70.66666667,\n",
              "        65.        ,  50.        ,  63.33333333,  82.33333333,\n",
              "        72.66666667,  60.        ,  78.        ,  64.        ,\n",
              "        78.        ,  82.66666667,  51.33333333,  51.33333333,\n",
              "        88.        ,  98.66666667,  51.66666667,  70.66666667,\n",
              "        76.33333333,  70.66666667,  73.        ,  86.66666667,\n",
              "        82.        ,  66.66666667,  49.33333333,  86.33333333,\n",
              "        52.66666667,  75.        ,  61.33333333,  99.        ,\n",
              "        68.33333333,  58.66666667,  49.        ,  68.        ,\n",
              "        48.66666667,  65.66666667,  73.66666667,  65.33333333,\n",
              "        48.33333333,  84.        ,  66.66666667,  79.33333333,\n",
              "        64.        ,  67.        ,  79.33333333,  56.        ,\n",
              "        64.33333333,  54.        ,  51.        ,  77.66666667,\n",
              "        79.        ,  74.33333333,  71.66666667,  64.66666667,\n",
              "        47.33333333,  74.33333333,  68.66666667,  79.        ,\n",
              "        77.        ,  61.66666667,  79.33333333,  30.        ,\n",
              "        54.66666667,  55.66666667,  86.33333333,  80.66666667,\n",
              "        85.66666667,  38.33333333,  71.        ,  57.66666667,\n",
              "        66.        ,  81.66666667,  60.66666667,  80.33333333,\n",
              "        63.66666667,  51.66666667,  71.66666667,  53.66666667,\n",
              "        68.        ,  92.33333333,  68.66666667,  43.66666667,\n",
              "        78.66666667,  85.66666667,  83.        ,  77.33333333,\n",
              "        65.33333333,  66.        ,  52.33333333,  81.33333333,\n",
              "        69.        ,  82.        ,  54.33333333,  51.        ,\n",
              "        72.66666667,  77.33333333,  79.66666667,  65.33333333,\n",
              "        63.66666667,  60.33333333,  48.33333333,  79.        ,\n",
              "        66.66666667,  77.33333333,  52.66666667,  68.33333333,\n",
              "        68.33333333,  77.33333333,  74.33333333,  75.66666667,\n",
              "        73.33333333,  78.66666667,  48.33333333,  94.        ,\n",
              "        72.33333333,  47.33333333,  73.        ,  72.66666667,\n",
              "        91.66666667,  72.33333333,  64.33333333,  49.66666667,\n",
              "        52.66666667,  68.66666667,  83.        ,  78.        ,\n",
              "        90.        ,  65.66666667,  77.        ,  62.        ,\n",
              "        49.        ,  46.33333333,  78.66666667,  75.33333333,\n",
              "        43.        ,  81.66666667,  89.        ,  79.33333333,\n",
              "        79.66666667,  76.66666667,  71.33333333,  76.33333333,\n",
              "        60.        ,  71.        ,  78.33333333,  63.        ,\n",
              "        43.33333333,  71.        ,  45.33333333,  84.        ,\n",
              "        80.        ,  54.        ,  77.33333333,  73.33333333,\n",
              "        77.33333333,  68.33333333,  89.        ,  49.        ,\n",
              "        63.66666667,  52.66666667,  76.33333333,  61.        ,\n",
              "        65.33333333,  68.        ,  66.        ,  67.33333333,\n",
              "        83.33333333,  77.66666667,  67.66666667,  61.33333333,\n",
              "        76.66666667,  80.        ,  77.33333333,  49.66666667,\n",
              "        43.33333333,  88.66666667,  61.33333333,  23.33333333,\n",
              "        78.        ,  49.        ,  64.        ,  39.66666667,\n",
              "        57.        ,  83.        ,  90.33333333,  65.        ,\n",
              "        71.66666667,  47.66666667,  29.66666667,  50.        ,\n",
              "        57.        ,  65.66666667,  73.        ,  68.66666667,\n",
              "        73.        ,  75.66666667,  60.        ,  88.66666667,\n",
              "        71.66666667,  79.        ,  62.        ,  58.33333333,\n",
              "        73.66666667,  53.66666667,  66.66666667,  67.66666667,\n",
              "        61.66666667,  59.        ,  60.66666667,  86.33333333,\n",
              "        59.66666667,  82.33333333,  56.        ,  31.        ,\n",
              "        59.        ,  55.66666667,  60.        ,  62.66666667,\n",
              "        55.33333333,  80.66666667,  77.33333333,  62.66666667,\n",
              "        73.33333333,  91.66666667,  67.33333333,  43.33333333,\n",
              "        84.        ,  93.33333333,  77.        ,  64.        ,\n",
              "        83.        ,  94.        ,  77.        ,  44.        ,\n",
              "        41.33333333,  72.66666667,  69.        ,  67.33333333,\n",
              "        63.33333333,  72.66666667,  66.33333333,  74.        ,\n",
              "        70.        ,  55.66666667,  72.        ,  44.66666667,\n",
              "        60.        ,  89.66666667,  64.66666667,  57.66666667,\n",
              "        60.        ,  46.33333333,  56.33333333,  95.66666667,\n",
              "        58.33333333,  68.        ,  64.33333333,  79.66666667,\n",
              "        55.        ,  85.33333333,  71.66666667,  81.66666667,\n",
              "        65.66666667,  65.66666667,  67.33333333,  75.33333333,\n",
              "        71.        ,  71.33333333,  63.        ,  55.66666667,\n",
              "        89.33333333,  59.66666667,  57.33333333,  74.66666667,\n",
              "        38.        ,  63.66666667,  85.        ,  68.33333333,\n",
              "        59.        ,  61.66666667,  63.        ,  67.66666667,\n",
              "        57.33333333,  52.        ,  68.33333333,  50.33333333,\n",
              "        69.        ,  71.33333333,  59.        ,  86.33333333,\n",
              "        75.66666667,  79.66666667,  67.        ,  77.33333333,\n",
              "        78.        ,  72.66666667,  65.        ,  82.33333333,\n",
              "        45.        ,  75.33333333,  78.        ,  96.33333333,\n",
              "        72.        ,  57.33333333,  58.66666667,  46.66666667,\n",
              "        85.66666667,  51.66666667, 100.        ,  68.33333333,\n",
              "        55.33333333,  51.        ,  72.33333333,  86.        ,\n",
              "        65.        ,  87.33333333,  31.66666667,  68.        ,\n",
              "        83.33333333,  80.33333333,  86.        ,  68.66666667,\n",
              "        79.33333333,  62.33333333,  90.33333333,  76.66666667,\n",
              "        68.        ,  73.33333333,  63.        ,  71.33333333,\n",
              "        70.66666667,  55.66666667,  65.66666667,  52.33333333,\n",
              "        51.66666667,  71.66666667,  54.66666667,  69.66666667,\n",
              "        58.        ,  81.        ,  75.33333333,  66.        ,\n",
              "        85.33333333,  86.33333333,  62.        ,  66.        ,\n",
              "        51.33333333,  71.        ,  67.66666667,  73.        ,\n",
              "        78.33333333,  91.        ,  59.33333333,  92.        ,\n",
              "        51.        ,  81.33333333,  68.        ,  56.        ,\n",
              "        78.        ,  88.33333333,  73.33333333,  52.33333333,\n",
              "        54.33333333,  59.        ,  89.33333333,  82.66666667,\n",
              "        82.33333333,  71.        ,  74.        ,  74.66666667,\n",
              "        57.33333333,  87.        ,  61.33333333,  54.33333333,\n",
              "        51.33333333,  62.33333333,  59.        ,  44.        ,\n",
              "        39.        ,  68.66666667,  69.33333333,  51.33333333,\n",
              "        60.33333333,  87.        ,  70.        ,  77.33333333,\n",
              "        56.33333333,  59.66666667,  74.        ,  91.66666667,\n",
              "        70.66666667,  80.33333333,  79.        ,  88.66666667,\n",
              "        64.33333333,  80.33333333,  96.33333333,  67.66666667,\n",
              "        64.33333333,  73.33333333,  73.33333333,  88.33333333,\n",
              "        46.        ,  67.66666667,  46.        ,  34.66666667,\n",
              "        68.66666667,  64.66666667,  64.33333333,  67.        ,\n",
              "        76.        ,  70.33333333,  92.66666667,  74.33333333,\n",
              "        48.33333333,  45.33333333,  97.33333333,  70.        ,\n",
              "        52.66666667,  67.66666667,  72.        ,  93.        ,\n",
              "        57.        ,  60.        ,  75.33333333,  49.33333333,\n",
              "        54.66666667,  87.        ,  54.        ,  60.66666667,\n",
              "        91.33333333,  78.66666667,  71.33333333,  76.        ,\n",
              "        74.33333333,  72.33333333,  67.        ,  56.33333333,\n",
              "        61.        ,  59.66666667,  56.33333333,  61.        ,\n",
              "        66.66666667,  74.33333333,  97.        ,  69.        ,\n",
              "        23.        ,  51.66666667,  73.        ,  76.        ,\n",
              "        59.        ,  29.33333333,  78.        ,  56.        ,\n",
              "        87.66666667,  69.66666667,  83.66666667,  50.66666667,\n",
              "        62.33333333,  62.        ,  64.        ,  61.        ,\n",
              "        91.66666667,  72.        ,  89.33333333,  66.66666667,\n",
              "        40.        ,  83.        ,  86.66666667,  68.66666667,\n",
              "        50.        ,  60.33333333,  53.66666667,  94.        ,\n",
              "        60.33333333,  98.66666667,  67.33333333,  51.66666667,\n",
              "        50.66666667,  50.        ,  67.        ,  68.        ,\n",
              "        73.66666667,  82.66666667,  82.66666667,  69.66666667,\n",
              "        76.        ,  86.66666667,  78.66666667,  74.33333333,\n",
              "        48.        ,  84.        ,  77.33333333,  77.66666667,\n",
              "        65.        ,  75.66666667,  64.66666667,  64.66666667,\n",
              "        52.66666667,  76.33333333,  53.33333333,  74.66666667,\n",
              "        89.66666667,  69.66666667,  77.        ,  65.33333333,\n",
              "        69.33333333,  65.33333333,  53.66666667,  87.33333333,\n",
              "        74.66666667,  67.33333333,  65.        ,  67.        ,\n",
              "        68.66666667,  56.66666667,  69.        ,  83.        ,\n",
              "        69.33333333,  76.66666667,  70.        ,  53.        ,\n",
              "        74.33333333,  77.66666667,  74.66666667,  60.        ,\n",
              "        75.66666667,  76.        ,  78.        ,  61.33333333,\n",
              "        71.        ,  62.66666667,  57.        ,  37.66666667,\n",
              "        65.33333333,  97.66666667,  76.        ,  76.        ,\n",
              "        51.66666667,  88.66666667,  51.66666667,  75.66666667,\n",
              "        73.66666667,  75.66666667,  56.        ,  84.66666667,\n",
              "        82.33333333,  67.        ,  71.33333333,  63.66666667,\n",
              "        80.66666667,  65.33333333,  86.        ,  64.66666667,\n",
              "        62.        ,  66.33333333,  38.66666667,  59.        ,\n",
              "        85.        ,  53.66666667,  89.        ,  83.33333333,\n",
              "        99.        ,  82.        ,  68.        ,  85.66666667,\n",
              "        74.33333333,  97.        ,  75.33333333,  81.33333333,\n",
              "        68.        ,  57.66666667,  84.        ,  46.66666667,\n",
              "        43.66666667,  75.33333333,  72.33333333,  58.66666667,\n",
              "        83.        ,  43.        ,  75.        ,  48.        ,\n",
              "        90.        ,  48.66666667,  56.        ,  61.        ,\n",
              "        85.        ,  64.        ,  75.        ,  58.66666667,\n",
              "        75.        ,  50.        ,  82.33333333,  68.        ,\n",
              "        52.33333333,  75.        ,  71.66666667,  67.        ,\n",
              "        56.33333333,  85.66666667,  69.33333333,  68.33333333,\n",
              "        77.        ,  84.        ,  55.33333333,  90.33333333,\n",
              "        55.        ,  70.        ,  58.66666667,  74.33333333,\n",
              "        63.        ,  53.33333333,  81.66666667,  62.33333333,\n",
              "        60.66666667,  72.66666667,  70.        ,  66.        ,\n",
              "        71.33333333,  58.33333333,  49.66666667,  74.        ,\n",
              "        63.66666667,  73.        ,  63.66666667,  54.        ,\n",
              "        69.33333333,  40.66666667,  77.66666667,  87.        ,\n",
              "        53.        ,  83.66666667,  81.        ,  57.66666667,\n",
              "        83.66666667,  42.33333333,  76.        ,  29.66666667,\n",
              "        64.66666667,  59.33333333,  56.66666667,  65.33333333,\n",
              "        69.66666667,  83.33333333,  48.33333333,  66.        ,\n",
              "        70.        ,  78.33333333,  61.        ,  54.66666667,\n",
              "        69.33333333,  76.33333333,  92.        ,  84.66666667,\n",
              "        75.66666667,  76.66666667,  71.        ,  42.        ,\n",
              "        78.        ,  54.66666667,  39.33333333,  47.        ,\n",
              "        61.66666667,  82.33333333,  78.33333333,  89.        ,\n",
              "        56.        ,  69.        ,  66.66666667,  85.33333333,\n",
              "        89.        ,  87.        ,  50.66666667,  80.        ,\n",
              "        52.66666667,  62.33333333,  64.66666667,  70.        ,\n",
              "        78.66666667,  58.33333333,  59.33333333,  83.        ,\n",
              "        60.66666667,  82.66666667,  51.        ,  66.        ,\n",
              "        64.66666667,  78.66666667,  56.        ,  72.        ,\n",
              "        45.66666667,  57.66666667,  34.33333333,  75.66666667,\n",
              "        56.33333333,  86.33333333,  87.        ,  56.        ,\n",
              "        66.33333333,  74.66666667,  68.33333333,  64.        ,\n",
              "        88.33333333,  70.        ,  60.33333333,  96.66666667,\n",
              "        69.33333333,  75.        ,  49.        ,  77.33333333,\n",
              "        56.        ,  84.66666667,  39.66666667,  74.        ,\n",
              "        93.66666667,  84.        ,  54.66666667,  48.        ,\n",
              "        74.66666667,  50.33333333,  54.66666667,  72.66666667,\n",
              "        81.33333333,  87.33333333,  55.33333333,  70.        ,\n",
              "        82.33333333,  57.33333333,  70.33333333,  71.33333333,\n",
              "        64.33333333,  70.33333333,  69.33333333,  48.33333333,\n",
              "        52.        ,  72.66666667,  96.        ,  61.66666667,\n",
              "        69.33333333,  47.66666667,  87.33333333,  87.33333333,\n",
              "        63.33333333,  79.        ,  63.33333333,  34.66666667,\n",
              "        30.66666667,  73.33333333,  61.33333333,  75.        ,\n",
              "        86.        ,  75.        ,  41.        ,  97.66666667,\n",
              "        78.33333333,  80.66666667,  52.        ,  84.66666667,\n",
              "        71.33333333,  68.        ,  46.66666667,  78.33333333,\n",
              "        59.66666667,  58.33333333,  54.        ,  68.        ,\n",
              "       100.        ,  52.33333333,  71.33333333,  92.66666667,\n",
              "        68.66666667,  44.66666667,  68.        ,  61.33333333,\n",
              "        71.        ,  66.        ,  57.33333333,  65.66666667,\n",
              "        44.33333333,  51.66666667,  70.33333333,  60.33333333,\n",
              "        68.33333333,  73.        ,  91.66666667,  63.66666667,\n",
              "        59.        ,  57.33333333,  83.66666667,  71.33333333,\n",
              "        70.        ,  88.33333333,  70.33333333,  61.33333333,\n",
              "        62.33333333,  57.66666667,  81.33333333,  55.66666667,\n",
              "        50.33333333,  68.33333333,  79.33333333,  78.33333333,\n",
              "        73.33333333,  54.66666667,  66.66666667,  63.66666667,\n",
              "        84.        ,  97.33333333,  55.66666667,  75.66666667,\n",
              "        59.33333333,  51.66666667, 100.        ,  72.        ,\n",
              "        62.33333333,  68.        ,  66.        ,  62.        ,\n",
              "        70.33333333,  79.66666667,  96.33333333,  73.        ,\n",
              "        54.33333333,  58.33333333,  61.33333333,  74.33333333,\n",
              "        60.66666667,  61.66666667,  48.        ,  93.33333333,\n",
              "        18.33333333,  79.        ,  83.33333333,  85.33333333,\n",
              "        77.        ,  54.        ,  50.        ,  77.33333333,\n",
              "        44.66666667,  78.66666667,  80.66666667,  75.        ,\n",
              "        69.        ,  69.33333333,  62.66666667,  94.        ,\n",
              "        57.33333333,  65.        ,  74.33333333,  83.        ])"
            ]
          },
          "metadata": {},
          "execution_count": 121
        }
      ]
    },
    {
      "cell_type": "code",
      "metadata": {
        "id": "7tgF7Ol96SsW"
      },
      "source": [
        "from sklearn.model_selection import train_test_split\n",
        "xtrain, xtest, ytrain, ytest = train_test_split(x,y, test_size=0.4, random_state=1)"
      ],
      "execution_count": null,
      "outputs": []
    },
    {
      "cell_type": "code",
      "metadata": {
        "id": "mkLOg2eR6SvC"
      },
      "source": [
        "from sklearn.preprocessing import StandardScaler\n",
        "\n",
        "sc = StandardScaler()\n",
        "\n",
        "xtrain = sc.fit_transform(xtrain)\n",
        "\n",
        "xtest = sc.transform(xtest)"
      ],
      "execution_count": null,
      "outputs": []
    },
    {
      "cell_type": "code",
      "metadata": {
        "id": "9pEHqn6-P9zy"
      },
      "source": [
        "ann = Sequential()      #step1 -: initialise the ann model\n",
        "\n",
        "ann.add(Dense(units=30, activation=\"relu\"))  #step2 -: add no. of layers into the model\n",
        "ann.add(Dense(units=1))\n",
        "\n",
        "ann.compile(optimizer=\"adam\", loss=\"mse\")  #step3 -: establish the connection between the layers\n"
      ],
      "execution_count": null,
      "outputs": []
    },
    {
      "cell_type": "code",
      "metadata": {
        "colab": {
          "base_uri": "https://localhost:8080/"
        },
        "id": "zgZhnhoPQX__",
        "outputId": "d2373917-19d5-4973-f6fa-6f94aeddaf87"
      },
      "source": [
        "ann.fit(xtrain, ytrain, epochs=150,validation_data=(xtest, ytest))  #step4 -: train the model"
      ],
      "execution_count": null,
      "outputs": [
        {
          "output_type": "stream",
          "name": "stdout",
          "text": [
            "Epoch 1/150\n",
            "19/19 [==============================] - 0s 8ms/step - loss: 4751.6553 - val_loss: 4756.0225\n",
            "Epoch 2/150\n",
            "19/19 [==============================] - 0s 3ms/step - loss: 4708.7271 - val_loss: 4712.6362\n",
            "Epoch 3/150\n",
            "19/19 [==============================] - 0s 2ms/step - loss: 4665.8340 - val_loss: 4666.9302\n",
            "Epoch 4/150\n",
            "19/19 [==============================] - 0s 2ms/step - loss: 4620.1733 - val_loss: 4619.5562\n",
            "Epoch 5/150\n",
            "19/19 [==============================] - 0s 3ms/step - loss: 4572.0474 - val_loss: 4567.7734\n",
            "Epoch 6/150\n",
            "19/19 [==============================] - 0s 3ms/step - loss: 4519.4614 - val_loss: 4511.2266\n",
            "Epoch 7/150\n",
            "19/19 [==============================] - 0s 3ms/step - loss: 4461.8550 - val_loss: 4448.6484\n",
            "Epoch 8/150\n",
            "19/19 [==============================] - 0s 3ms/step - loss: 4398.5967 - val_loss: 4379.4971\n",
            "Epoch 9/150\n",
            "19/19 [==============================] - 0s 3ms/step - loss: 4328.4761 - val_loss: 4303.7407\n",
            "Epoch 10/150\n",
            "19/19 [==============================] - 0s 3ms/step - loss: 4251.0527 - val_loss: 4221.3813\n",
            "Epoch 11/150\n",
            "19/19 [==============================] - 0s 3ms/step - loss: 4167.1694 - val_loss: 4129.8833\n",
            "Epoch 12/150\n",
            "19/19 [==============================] - 0s 3ms/step - loss: 4075.2754 - val_loss: 4029.5500\n",
            "Epoch 13/150\n",
            "19/19 [==============================] - 0s 3ms/step - loss: 3975.7708 - val_loss: 3922.8872\n",
            "Epoch 14/150\n",
            "19/19 [==============================] - 0s 3ms/step - loss: 3869.8745 - val_loss: 3808.2107\n",
            "Epoch 15/150\n",
            "19/19 [==============================] - 0s 3ms/step - loss: 3755.3088 - val_loss: 3689.2534\n",
            "Epoch 16/150\n",
            "19/19 [==============================] - 0s 4ms/step - loss: 3636.6121 - val_loss: 3561.9951\n",
            "Epoch 17/150\n",
            "19/19 [==============================] - 0s 3ms/step - loss: 3510.9075 - val_loss: 3430.2463\n",
            "Epoch 18/150\n",
            "19/19 [==============================] - 0s 3ms/step - loss: 3381.1313 - val_loss: 3294.4834\n",
            "Epoch 19/150\n",
            "19/19 [==============================] - 0s 4ms/step - loss: 3246.6309 - val_loss: 3156.6292\n",
            "Epoch 20/150\n",
            "19/19 [==============================] - 0s 3ms/step - loss: 3112.0215 - val_loss: 3013.6216\n",
            "Epoch 21/150\n",
            "19/19 [==============================] - 0s 3ms/step - loss: 2974.3994 - val_loss: 2869.0266\n",
            "Epoch 22/150\n",
            "19/19 [==============================] - 0s 4ms/step - loss: 2833.8242 - val_loss: 2728.4915\n",
            "Epoch 23/150\n",
            "19/19 [==============================] - 0s 3ms/step - loss: 2695.8218 - val_loss: 2586.2014\n",
            "Epoch 24/150\n",
            "19/19 [==============================] - 0s 3ms/step - loss: 2558.0271 - val_loss: 2443.9570\n",
            "Epoch 25/150\n",
            "19/19 [==============================] - 0s 3ms/step - loss: 2420.5122 - val_loss: 2306.7522\n",
            "Epoch 26/150\n",
            "19/19 [==============================] - 0s 3ms/step - loss: 2288.2800 - val_loss: 2170.4209\n",
            "Epoch 27/150\n",
            "19/19 [==============================] - 0s 3ms/step - loss: 2156.4294 - val_loss: 2041.5780\n",
            "Epoch 28/150\n",
            "19/19 [==============================] - 0s 3ms/step - loss: 2031.3398 - val_loss: 1915.5167\n",
            "Epoch 29/150\n",
            "19/19 [==============================] - 0s 3ms/step - loss: 1910.0643 - val_loss: 1794.8450\n",
            "Epoch 30/150\n",
            "19/19 [==============================] - 0s 3ms/step - loss: 1793.3750 - val_loss: 1680.8861\n",
            "Epoch 31/150\n",
            "19/19 [==============================] - 0s 3ms/step - loss: 1682.7780 - val_loss: 1574.2328\n",
            "Epoch 32/150\n",
            "19/19 [==============================] - 0s 3ms/step - loss: 1579.4059 - val_loss: 1471.8696\n",
            "Epoch 33/150\n",
            "19/19 [==============================] - 0s 3ms/step - loss: 1479.9403 - val_loss: 1378.7156\n",
            "Epoch 34/150\n",
            "19/19 [==============================] - 0s 3ms/step - loss: 1388.2560 - val_loss: 1290.7074\n",
            "Epoch 35/150\n",
            "19/19 [==============================] - 0s 3ms/step - loss: 1301.7001 - val_loss: 1210.1488\n",
            "Epoch 36/150\n",
            "19/19 [==============================] - 0s 3ms/step - loss: 1222.2531 - val_loss: 1134.3046\n",
            "Epoch 37/150\n",
            "19/19 [==============================] - 0s 3ms/step - loss: 1147.2639 - val_loss: 1065.3322\n",
            "Epoch 38/150\n",
            "19/19 [==============================] - 0s 3ms/step - loss: 1078.8391 - val_loss: 1001.2427\n",
            "Epoch 39/150\n",
            "19/19 [==============================] - 0s 4ms/step - loss: 1014.9965 - val_loss: 943.1692\n",
            "Epoch 40/150\n",
            "19/19 [==============================] - 0s 3ms/step - loss: 956.6110 - val_loss: 889.3924\n",
            "Epoch 41/150\n",
            "19/19 [==============================] - 0s 3ms/step - loss: 902.4801 - val_loss: 840.6876\n",
            "Epoch 42/150\n",
            "19/19 [==============================] - 0s 3ms/step - loss: 852.5767 - val_loss: 796.0684\n",
            "Epoch 43/150\n",
            "19/19 [==============================] - 0s 3ms/step - loss: 806.7322 - val_loss: 754.9054\n",
            "Epoch 44/150\n",
            "19/19 [==============================] - 0s 3ms/step - loss: 764.3279 - val_loss: 717.4068\n",
            "Epoch 45/150\n",
            "19/19 [==============================] - 0s 3ms/step - loss: 724.7413 - val_loss: 682.8689\n",
            "Epoch 46/150\n",
            "19/19 [==============================] - 0s 3ms/step - loss: 688.1241 - val_loss: 650.9235\n",
            "Epoch 47/150\n",
            "19/19 [==============================] - 0s 3ms/step - loss: 653.9844 - val_loss: 621.4424\n",
            "Epoch 48/150\n",
            "19/19 [==============================] - 0s 3ms/step - loss: 622.7270 - val_loss: 592.9822\n",
            "Epoch 49/150\n",
            "19/19 [==============================] - 0s 3ms/step - loss: 593.0279 - val_loss: 566.9879\n",
            "Epoch 50/150\n",
            "19/19 [==============================] - 0s 3ms/step - loss: 565.0309 - val_loss: 542.7959\n",
            "Epoch 51/150\n",
            "19/19 [==============================] - 0s 3ms/step - loss: 538.9196 - val_loss: 519.8651\n",
            "Epoch 52/150\n",
            "19/19 [==============================] - 0s 3ms/step - loss: 513.8427 - val_loss: 498.8381\n",
            "Epoch 53/150\n",
            "19/19 [==============================] - 0s 3ms/step - loss: 490.6662 - val_loss: 478.2885\n",
            "Epoch 54/150\n",
            "19/19 [==============================] - 0s 3ms/step - loss: 468.4879 - val_loss: 458.9636\n",
            "Epoch 55/150\n",
            "19/19 [==============================] - 0s 3ms/step - loss: 447.4306 - val_loss: 440.6344\n",
            "Epoch 56/150\n",
            "19/19 [==============================] - 0s 3ms/step - loss: 427.3561 - val_loss: 422.9884\n",
            "Epoch 57/150\n",
            "19/19 [==============================] - 0s 3ms/step - loss: 408.5473 - val_loss: 405.7927\n",
            "Epoch 58/150\n",
            "19/19 [==============================] - 0s 3ms/step - loss: 390.2406 - val_loss: 389.8749\n",
            "Epoch 59/150\n",
            "19/19 [==============================] - 0s 3ms/step - loss: 372.8110 - val_loss: 374.3713\n",
            "Epoch 60/150\n",
            "19/19 [==============================] - 0s 3ms/step - loss: 356.5814 - val_loss: 359.4698\n",
            "Epoch 61/150\n",
            "19/19 [==============================] - 0s 3ms/step - loss: 340.6357 - val_loss: 345.2898\n",
            "Epoch 62/150\n",
            "19/19 [==============================] - 0s 3ms/step - loss: 325.7733 - val_loss: 331.8030\n",
            "Epoch 63/150\n",
            "19/19 [==============================] - 0s 3ms/step - loss: 311.7399 - val_loss: 318.9347\n",
            "Epoch 64/150\n",
            "19/19 [==============================] - 0s 3ms/step - loss: 298.1282 - val_loss: 306.2512\n",
            "Epoch 65/150\n",
            "19/19 [==============================] - 0s 3ms/step - loss: 285.0846 - val_loss: 294.2625\n",
            "Epoch 66/150\n",
            "19/19 [==============================] - 0s 3ms/step - loss: 272.7410 - val_loss: 282.8040\n",
            "Epoch 67/150\n",
            "19/19 [==============================] - 0s 3ms/step - loss: 260.9344 - val_loss: 271.6173\n",
            "Epoch 68/150\n",
            "19/19 [==============================] - 0s 3ms/step - loss: 249.6851 - val_loss: 260.8833\n",
            "Epoch 69/150\n",
            "19/19 [==============================] - 0s 3ms/step - loss: 238.9236 - val_loss: 250.6062\n",
            "Epoch 70/150\n",
            "19/19 [==============================] - 0s 3ms/step - loss: 228.5621 - val_loss: 241.0862\n",
            "Epoch 71/150\n",
            "19/19 [==============================] - 0s 4ms/step - loss: 218.6542 - val_loss: 231.6339\n",
            "Epoch 72/150\n",
            "19/19 [==============================] - 0s 3ms/step - loss: 209.1700 - val_loss: 222.7350\n",
            "Epoch 73/150\n",
            "19/19 [==============================] - 0s 3ms/step - loss: 200.1721 - val_loss: 214.1548\n",
            "Epoch 74/150\n",
            "19/19 [==============================] - 0s 3ms/step - loss: 191.6793 - val_loss: 206.0262\n",
            "Epoch 75/150\n",
            "19/19 [==============================] - 0s 3ms/step - loss: 183.3934 - val_loss: 198.1685\n",
            "Epoch 76/150\n",
            "19/19 [==============================] - 0s 3ms/step - loss: 175.4914 - val_loss: 190.4780\n",
            "Epoch 77/150\n",
            "19/19 [==============================] - 0s 3ms/step - loss: 168.0733 - val_loss: 183.0562\n",
            "Epoch 78/150\n",
            "19/19 [==============================] - 0s 3ms/step - loss: 160.7465 - val_loss: 176.2337\n",
            "Epoch 79/150\n",
            "19/19 [==============================] - 0s 3ms/step - loss: 153.9102 - val_loss: 169.4421\n",
            "Epoch 80/150\n",
            "19/19 [==============================] - 0s 3ms/step - loss: 147.2065 - val_loss: 162.9784\n",
            "Epoch 81/150\n",
            "19/19 [==============================] - 0s 3ms/step - loss: 140.9440 - val_loss: 156.6141\n",
            "Epoch 82/150\n",
            "19/19 [==============================] - 0s 2ms/step - loss: 135.0207 - val_loss: 150.2813\n",
            "Epoch 83/150\n",
            "19/19 [==============================] - 0s 3ms/step - loss: 129.1337 - val_loss: 144.5320\n",
            "Epoch 84/150\n",
            "19/19 [==============================] - 0s 3ms/step - loss: 123.7059 - val_loss: 139.1376\n",
            "Epoch 85/150\n",
            "19/19 [==============================] - 0s 3ms/step - loss: 118.5991 - val_loss: 133.6214\n",
            "Epoch 86/150\n",
            "19/19 [==============================] - 0s 3ms/step - loss: 113.4914 - val_loss: 128.5549\n",
            "Epoch 87/150\n",
            "19/19 [==============================] - 0s 3ms/step - loss: 108.7640 - val_loss: 123.7756\n",
            "Epoch 88/150\n",
            "19/19 [==============================] - 0s 3ms/step - loss: 104.2356 - val_loss: 118.8597\n",
            "Epoch 89/150\n",
            "19/19 [==============================] - 0s 3ms/step - loss: 99.8363 - val_loss: 114.4061\n",
            "Epoch 90/150\n",
            "19/19 [==============================] - 0s 2ms/step - loss: 95.7623 - val_loss: 110.2471\n",
            "Epoch 91/150\n",
            "19/19 [==============================] - 0s 3ms/step - loss: 91.8580 - val_loss: 106.0229\n",
            "Epoch 92/150\n",
            "19/19 [==============================] - 0s 2ms/step - loss: 88.0457 - val_loss: 102.0475\n",
            "Epoch 93/150\n",
            "19/19 [==============================] - 0s 2ms/step - loss: 84.3942 - val_loss: 98.5456\n",
            "Epoch 94/150\n",
            "19/19 [==============================] - 0s 3ms/step - loss: 80.9086 - val_loss: 95.0753\n",
            "Epoch 95/150\n",
            "19/19 [==============================] - 0s 3ms/step - loss: 77.6614 - val_loss: 91.5918\n",
            "Epoch 96/150\n",
            "19/19 [==============================] - 0s 3ms/step - loss: 74.5130 - val_loss: 88.2573\n",
            "Epoch 97/150\n",
            "19/19 [==============================] - 0s 3ms/step - loss: 71.5991 - val_loss: 85.0089\n",
            "Epoch 98/150\n",
            "19/19 [==============================] - 0s 4ms/step - loss: 68.6833 - val_loss: 82.0688\n",
            "Epoch 99/150\n",
            "19/19 [==============================] - 0s 3ms/step - loss: 65.9900 - val_loss: 79.2780\n",
            "Epoch 100/150\n",
            "19/19 [==============================] - 0s 3ms/step - loss: 63.4883 - val_loss: 76.6090\n",
            "Epoch 101/150\n",
            "19/19 [==============================] - 0s 3ms/step - loss: 61.0231 - val_loss: 74.0811\n",
            "Epoch 102/150\n",
            "19/19 [==============================] - 0s 3ms/step - loss: 58.7117 - val_loss: 71.5541\n",
            "Epoch 103/150\n",
            "19/19 [==============================] - 0s 3ms/step - loss: 56.5397 - val_loss: 69.0586\n",
            "Epoch 104/150\n",
            "19/19 [==============================] - 0s 3ms/step - loss: 54.3705 - val_loss: 66.8309\n",
            "Epoch 105/150\n",
            "19/19 [==============================] - 0s 3ms/step - loss: 52.3799 - val_loss: 64.7445\n",
            "Epoch 106/150\n",
            "19/19 [==============================] - 0s 3ms/step - loss: 50.3986 - val_loss: 62.5808\n",
            "Epoch 107/150\n",
            "19/19 [==============================] - 0s 3ms/step - loss: 48.6018 - val_loss: 60.3884\n",
            "Epoch 108/150\n",
            "19/19 [==============================] - 0s 3ms/step - loss: 46.7655 - val_loss: 58.5916\n",
            "Epoch 109/150\n",
            "19/19 [==============================] - 0s 3ms/step - loss: 45.1675 - val_loss: 56.5459\n",
            "Epoch 110/150\n",
            "19/19 [==============================] - 0s 3ms/step - loss: 43.3793 - val_loss: 54.8079\n",
            "Epoch 111/150\n",
            "19/19 [==============================] - 0s 3ms/step - loss: 41.8364 - val_loss: 53.0837\n",
            "Epoch 112/150\n",
            "19/19 [==============================] - 0s 3ms/step - loss: 40.3552 - val_loss: 51.4474\n",
            "Epoch 113/150\n",
            "19/19 [==============================] - 0s 3ms/step - loss: 38.9826 - val_loss: 49.8529\n",
            "Epoch 114/150\n",
            "19/19 [==============================] - 0s 3ms/step - loss: 37.6001 - val_loss: 48.2786\n",
            "Epoch 115/150\n",
            "19/19 [==============================] - 0s 4ms/step - loss: 36.2567 - val_loss: 46.7915\n",
            "Epoch 116/150\n",
            "19/19 [==============================] - 0s 3ms/step - loss: 35.0363 - val_loss: 45.2972\n",
            "Epoch 117/150\n",
            "19/19 [==============================] - 0s 3ms/step - loss: 33.8502 - val_loss: 43.8987\n",
            "Epoch 118/150\n",
            "19/19 [==============================] - 0s 3ms/step - loss: 32.6919 - val_loss: 42.6227\n",
            "Epoch 119/150\n",
            "19/19 [==============================] - 0s 3ms/step - loss: 31.5714 - val_loss: 41.4512\n",
            "Epoch 120/150\n",
            "19/19 [==============================] - 0s 3ms/step - loss: 30.5576 - val_loss: 40.1746\n",
            "Epoch 121/150\n",
            "19/19 [==============================] - 0s 3ms/step - loss: 29.5060 - val_loss: 39.1133\n",
            "Epoch 122/150\n",
            "19/19 [==============================] - 0s 3ms/step - loss: 28.6032 - val_loss: 37.9114\n",
            "Epoch 123/150\n",
            "19/19 [==============================] - 0s 2ms/step - loss: 27.6357 - val_loss: 36.7690\n",
            "Epoch 124/150\n",
            "19/19 [==============================] - 0s 2ms/step - loss: 26.7898 - val_loss: 35.7570\n",
            "Epoch 125/150\n",
            "19/19 [==============================] - 0s 3ms/step - loss: 25.8918 - val_loss: 34.8176\n",
            "Epoch 126/150\n",
            "19/19 [==============================] - 0s 3ms/step - loss: 25.0870 - val_loss: 33.7871\n",
            "Epoch 127/150\n",
            "19/19 [==============================] - 0s 3ms/step - loss: 24.2912 - val_loss: 32.8485\n",
            "Epoch 128/150\n",
            "19/19 [==============================] - 0s 3ms/step - loss: 23.5178 - val_loss: 31.9575\n",
            "Epoch 129/150\n",
            "19/19 [==============================] - 0s 2ms/step - loss: 22.8303 - val_loss: 30.9575\n",
            "Epoch 130/150\n",
            "19/19 [==============================] - 0s 3ms/step - loss: 22.0643 - val_loss: 30.1445\n",
            "Epoch 131/150\n",
            "19/19 [==============================] - 0s 3ms/step - loss: 21.3985 - val_loss: 29.3764\n",
            "Epoch 132/150\n",
            "19/19 [==============================] - 0s 3ms/step - loss: 20.7421 - val_loss: 28.5681\n",
            "Epoch 133/150\n",
            "19/19 [==============================] - 0s 2ms/step - loss: 20.1604 - val_loss: 27.9053\n",
            "Epoch 134/150\n",
            "19/19 [==============================] - 0s 3ms/step - loss: 19.5438 - val_loss: 26.9895\n",
            "Epoch 135/150\n",
            "19/19 [==============================] - 0s 3ms/step - loss: 18.9623 - val_loss: 26.2334\n",
            "Epoch 136/150\n",
            "19/19 [==============================] - 0s 3ms/step - loss: 18.3769 - val_loss: 25.6169\n",
            "Epoch 137/150\n",
            "19/19 [==============================] - 0s 3ms/step - loss: 17.8542 - val_loss: 25.0017\n",
            "Epoch 138/150\n",
            "19/19 [==============================] - 0s 3ms/step - loss: 17.3077 - val_loss: 24.4000\n",
            "Epoch 139/150\n",
            "19/19 [==============================] - 0s 3ms/step - loss: 16.8184 - val_loss: 23.7050\n",
            "Epoch 140/150\n",
            "19/19 [==============================] - 0s 3ms/step - loss: 16.3286 - val_loss: 23.0971\n",
            "Epoch 141/150\n",
            "19/19 [==============================] - 0s 3ms/step - loss: 15.8376 - val_loss: 22.5888\n",
            "Epoch 142/150\n",
            "19/19 [==============================] - 0s 3ms/step - loss: 15.4072 - val_loss: 21.9327\n",
            "Epoch 143/150\n",
            "19/19 [==============================] - 0s 3ms/step - loss: 14.9310 - val_loss: 21.3918\n",
            "Epoch 144/150\n",
            "19/19 [==============================] - 0s 3ms/step - loss: 14.5323 - val_loss: 20.8046\n",
            "Epoch 145/150\n",
            "19/19 [==============================] - 0s 3ms/step - loss: 14.1093 - val_loss: 20.2797\n",
            "Epoch 146/150\n",
            "19/19 [==============================] - 0s 3ms/step - loss: 13.7339 - val_loss: 19.8050\n",
            "Epoch 147/150\n",
            "19/19 [==============================] - 0s 3ms/step - loss: 13.3552 - val_loss: 19.2906\n",
            "Epoch 148/150\n",
            "19/19 [==============================] - 0s 3ms/step - loss: 12.9950 - val_loss: 18.8284\n",
            "Epoch 149/150\n",
            "19/19 [==============================] - 0s 3ms/step - loss: 12.6414 - val_loss: 18.3661\n",
            "Epoch 150/150\n",
            "19/19 [==============================] - 0s 3ms/step - loss: 12.3049 - val_loss: 17.8956\n"
          ]
        },
        {
          "output_type": "execute_result",
          "data": {
            "text/plain": [
              "<keras.callbacks.History at 0x7f5b22b2f310>"
            ]
          },
          "metadata": {},
          "execution_count": 125
        }
      ]
    },
    {
      "cell_type": "code",
      "metadata": {
        "colab": {
          "base_uri": "https://localhost:8080/",
          "height": 204
        },
        "id": "g3RjtVc7QY7G",
        "outputId": "76909387-76b3-4810-98f0-d9380737abe1"
      },
      "source": [
        "loss = pd.DataFrame(ann.history.history)\n",
        "loss.head()"
      ],
      "execution_count": null,
      "outputs": [
        {
          "output_type": "execute_result",
          "data": {
            "text/html": [
              "<div>\n",
              "<style scoped>\n",
              "    .dataframe tbody tr th:only-of-type {\n",
              "        vertical-align: middle;\n",
              "    }\n",
              "\n",
              "    .dataframe tbody tr th {\n",
              "        vertical-align: top;\n",
              "    }\n",
              "\n",
              "    .dataframe thead th {\n",
              "        text-align: right;\n",
              "    }\n",
              "</style>\n",
              "<table border=\"1\" class=\"dataframe\">\n",
              "  <thead>\n",
              "    <tr style=\"text-align: right;\">\n",
              "      <th></th>\n",
              "      <th>loss</th>\n",
              "      <th>val_loss</th>\n",
              "    </tr>\n",
              "  </thead>\n",
              "  <tbody>\n",
              "    <tr>\n",
              "      <th>0</th>\n",
              "      <td>4751.655273</td>\n",
              "      <td>4756.022461</td>\n",
              "    </tr>\n",
              "    <tr>\n",
              "      <th>1</th>\n",
              "      <td>4708.727051</td>\n",
              "      <td>4712.636230</td>\n",
              "    </tr>\n",
              "    <tr>\n",
              "      <th>2</th>\n",
              "      <td>4665.833984</td>\n",
              "      <td>4666.930176</td>\n",
              "    </tr>\n",
              "    <tr>\n",
              "      <th>3</th>\n",
              "      <td>4620.173340</td>\n",
              "      <td>4619.556152</td>\n",
              "    </tr>\n",
              "    <tr>\n",
              "      <th>4</th>\n",
              "      <td>4572.047363</td>\n",
              "      <td>4567.773438</td>\n",
              "    </tr>\n",
              "  </tbody>\n",
              "</table>\n",
              "</div>"
            ],
            "text/plain": [
              "          loss     val_loss\n",
              "0  4751.655273  4756.022461\n",
              "1  4708.727051  4712.636230\n",
              "2  4665.833984  4666.930176\n",
              "3  4620.173340  4619.556152\n",
              "4  4572.047363  4567.773438"
            ]
          },
          "metadata": {},
          "execution_count": 126
        }
      ]
    },
    {
      "cell_type": "code",
      "metadata": {
        "colab": {
          "base_uri": "https://localhost:8080/",
          "height": 282
        },
        "id": "x8THJ7mfQoTw",
        "outputId": "65108bd3-a272-4ab3-cf23-ce6f6c1539ce"
      },
      "source": [
        "loss.plot()"
      ],
      "execution_count": null,
      "outputs": [
        {
          "output_type": "execute_result",
          "data": {
            "text/plain": [
              "<matplotlib.axes._subplots.AxesSubplot at 0x7f5b35ac13d0>"
            ]
          },
          "metadata": {},
          "execution_count": 127
        },
        {
          "output_type": "display_data",
          "data": {
            "image/png": "[encoded data removed]",
            "text/plain": [
              "<Figure size 432x288 with 1 Axes>"
            ]
          },
          "metadata": {}
        }
      ]
    },
    {
      "cell_type": "code",
      "metadata": {
        "colab": {
          "base_uri": "https://localhost:8080/"
        },
        "id": "1_JaCd53QZHW",
        "outputId": "0dcd2fa1-2007-4951-a756-6ed478bb3392"
      },
      "source": [
        "ann.evaluate(xtrain, ytrain)"
      ],
      "execution_count": null,
      "outputs": [
        {
          "output_type": "stream",
          "name": "stdout",
          "text": [
            "19/19 [==============================] - 0s 1ms/step - loss: 12.1064\n"
          ]
        },
        {
          "output_type": "execute_result",
          "data": {
            "text/plain": [
              "12.106415748596191"
            ]
          },
          "metadata": {},
          "execution_count": 128
        }
      ]
    },
    {
      "cell_type": "code",
      "metadata": {
        "colab": {
          "base_uri": "https://localhost:8080/"
        },
        "id": "JxtbiiGZQ4lG",
        "outputId": "67b1cc2b-bb7f-49b4-c607-a231c7d3e3b2"
      },
      "source": [
        "ann.evaluate(xtest, ytest)"
      ],
      "execution_count": null,
      "outputs": [
        {
          "output_type": "stream",
          "name": "stdout",
          "text": [
            "13/13 [==============================] - 0s 1ms/step - loss: 17.8956\n"
          ]
        },
        {
          "output_type": "execute_result",
          "data": {
            "text/plain": [
              "17.895553588867188"
            ]
          },
          "metadata": {},
          "execution_count": 129
        }
      ]
    },
    {
      "cell_type": "code",
      "metadata": {
        "id": "ExJ41iG4Q4nx"
      },
      "source": [
        "ypred = ann.predict(xtest)\n"
      ],
      "execution_count": null,
      "outputs": []
    },
    {
      "cell_type": "code",
      "metadata": {
        "id": "fdHpULBkRL-e"
      },
      "source": [
        "dic = {\"Actual Y\":ytest, \"Predicted Y\":ypred.flatten()}\n",
        "\n",
        "df1 = pd.DataFrame(dic)"
      ],
      "execution_count": null,
      "outputs": []
    },
    {
      "cell_type": "code",
      "metadata": {
        "colab": {
          "base_uri": "https://localhost:8080/",
          "height": 204
        },
        "id": "zHknquosRMBi",
        "outputId": "09c72770-53b4-400a-a4e0-2ebf2ab8b01d"
      },
      "source": [
        "df1.head()"
      ],
      "execution_count": null,
      "outputs": [
        {
          "output_type": "execute_result",
          "data": {
            "text/html": [
              "<div>\n",
              "<style scoped>\n",
              "    .dataframe tbody tr th:only-of-type {\n",
              "        vertical-align: middle;\n",
              "    }\n",
              "\n",
              "    .dataframe tbody tr th {\n",
              "        vertical-align: top;\n",
              "    }\n",
              "\n",
              "    .dataframe thead th {\n",
              "        text-align: right;\n",
              "    }\n",
              "</style>\n",
              "<table border=\"1\" class=\"dataframe\">\n",
              "  <thead>\n",
              "    <tr style=\"text-align: right;\">\n",
              "      <th></th>\n",
              "      <th>Actual Y</th>\n",
              "      <th>Predicted Y</th>\n",
              "    </tr>\n",
              "  </thead>\n",
              "  <tbody>\n",
              "    <tr>\n",
              "      <th>0</th>\n",
              "      <td>56.000000</td>\n",
              "      <td>54.340294</td>\n",
              "    </tr>\n",
              "    <tr>\n",
              "      <th>1</th>\n",
              "      <td>66.666667</td>\n",
              "      <td>63.536827</td>\n",
              "    </tr>\n",
              "    <tr>\n",
              "      <th>2</th>\n",
              "      <td>72.000000</td>\n",
              "      <td>72.193542</td>\n",
              "    </tr>\n",
              "    <tr>\n",
              "      <th>3</th>\n",
              "      <td>55.333333</td>\n",
              "      <td>57.258057</td>\n",
              "    </tr>\n",
              "    <tr>\n",
              "      <th>4</th>\n",
              "      <td>54.333333</td>\n",
              "      <td>48.785679</td>\n",
              "    </tr>\n",
              "  </tbody>\n",
              "</table>\n",
              "</div>"
            ],
            "text/plain": [
              "    Actual Y  Predicted Y\n",
              "0  56.000000    54.340294\n",
              "1  66.666667    63.536827\n",
              "2  72.000000    72.193542\n",
              "3  55.333333    57.258057\n",
              "4  54.333333    48.785679"
            ]
          },
          "metadata": {},
          "execution_count": 132
        }
      ]
    },
    {
      "cell_type": "code",
      "metadata": {
        "colab": {
          "base_uri": "https://localhost:8080/",
          "height": 279
        },
        "id": "XS5hMfx3RmD7",
        "outputId": "baaa83f1-0288-408d-8251-1d16c89c7ebd"
      },
      "source": [
        "sns.scatterplot(x=\"Actual Y\", y=\"Predicted Y\", data=df1)\n",
        "plt.show()"
      ],
      "execution_count": null,
      "outputs": [
        {
          "output_type": "display_data",
          "data": {
            "image/png": "[encoded data removed]",
            "text/plain": [
              "<Figure size 432x288 with 1 Axes>"
            ]
          },
          "metadata": {}
        }
      ]
    },
    {
      "cell_type": "code",
      "metadata": {
        "colab": {
          "base_uri": "https://localhost:8080/"
        },
        "id": "DvDH_M5rZ_PK",
        "outputId": "1ee8433b-513d-4187-aec0-591df6038595"
      },
      "source": [
        "print(f\"MSE -: {mean_squared_error(ytest, ypred)}\")\n",
        "print(f\"RMSE -: {np.sqrt(mean_squared_error(ytest, ypred))}\") "
      ],
      "execution_count": null,
      "outputs": [
        {
          "output_type": "stream",
          "name": "stdout",
          "text": [
            "MSE -: 17.89555280536726\n",
            "RMSE -: 4.230313558752739\n"
          ]
        }
      ]
    },
    {
      "cell_type": "code",
      "metadata": {
        "id": "uqjEdeaFW9g_"
      },
      "source": [
        "ann = Sequential()\n",
        "ann.add(Dense(units=30, activation=\"relu\"))\n",
        "ann.add(Dense(units=15, activation=\"relu\"))\n",
        "ann.add(Dense(units=10, activation=\"relu\"))\n",
        "\n",
        "ann.add(Dense(units=1))\n",
        "\n",
        "ann.compile(optimizer=\"rmsprop\", loss=\"mse\")"
      ],
      "execution_count": null,
      "outputs": []
    },
    {
      "cell_type": "code",
      "metadata": {
        "id": "tORlu5gZW9u3"
      },
      "source": [
        "from tensorflow.keras.callbacks import EarlyStopping"
      ],
      "execution_count": null,
      "outputs": []
    },
    {
      "cell_type": "code",
      "metadata": {
        "id": "UomcjXT8XVo_"
      },
      "source": [
        "earlystop = EarlyStopping(monitor=\"val_loss\", mode=\"min\", verbose=1, patience=20)"
      ],
      "execution_count": null,
      "outputs": []
    },
    {
      "cell_type": "code",
      "metadata": {
        "colab": {
          "base_uri": "https://localhost:8080/"
        },
        "id": "YuLXT011YELA",
        "outputId": "3f265717-44ce-4be2-d510-29b97b7fa6b5"
      },
      "source": [
        "ann.fit(xtrain, ytrain, epochs=600, validation_data=(xtest, ytest), callbacks=[earlystop])"
      ],
      "execution_count": null,
      "outputs": [
        {
          "output_type": "stream",
          "name": "stdout",
          "text": [
            "Epoch 1/600\n",
            "19/19 [==============================] - 1s 9ms/step - loss: 4604.4756 - val_loss: 4512.2681\n",
            "Epoch 2/600\n",
            "19/19 [==============================] - 0s 3ms/step - loss: 4395.4385 - val_loss: 4269.8589\n",
            "Epoch 3/600\n",
            "19/19 [==============================] - 0s 3ms/step - loss: 4127.6890 - val_loss: 3953.9019\n",
            "Epoch 4/600\n",
            "19/19 [==============================] - 0s 4ms/step - loss: 3784.5408 - val_loss: 3553.0383\n",
            "Epoch 5/600\n",
            "19/19 [==============================] - 0s 3ms/step - loss: 3356.8999 - val_loss: 3065.9543\n",
            "Epoch 6/600\n",
            "19/19 [==============================] - 0s 3ms/step - loss: 2849.0962 - val_loss: 2510.2493\n",
            "Epoch 7/600\n",
            "19/19 [==============================] - 0s 3ms/step - loss: 2278.1155 - val_loss: 1910.1785\n",
            "Epoch 8/600\n",
            "19/19 [==============================] - 0s 3ms/step - loss: 1690.8295 - val_loss: 1332.0039\n",
            "Epoch 9/600\n",
            "19/19 [==============================] - 0s 4ms/step - loss: 1153.0118 - val_loss: 859.1783\n",
            "Epoch 10/600\n",
            "19/19 [==============================] - 0s 3ms/step - loss: 736.3408 - val_loss: 550.9297\n",
            "Epoch 11/600\n",
            "19/19 [==============================] - 0s 3ms/step - loss: 491.4127 - val_loss: 412.4764\n",
            "Epoch 12/600\n",
            "19/19 [==============================] - 0s 3ms/step - loss: 373.5321 - val_loss: 338.1788\n",
            "Epoch 13/600\n",
            "19/19 [==============================] - 0s 3ms/step - loss: 300.4560 - val_loss: 281.9368\n",
            "Epoch 14/600\n",
            "19/19 [==============================] - 0s 3ms/step - loss: 247.3573 - val_loss: 242.2357\n",
            "Epoch 15/600\n",
            "19/19 [==============================] - 0s 3ms/step - loss: 206.3039 - val_loss: 203.1318\n",
            "Epoch 16/600\n",
            "19/19 [==============================] - 0s 3ms/step - loss: 171.4036 - val_loss: 171.2100\n",
            "Epoch 17/600\n",
            "19/19 [==============================] - 0s 3ms/step - loss: 145.1603 - val_loss: 149.0398\n",
            "Epoch 18/600\n",
            "19/19 [==============================] - 0s 3ms/step - loss: 121.2407 - val_loss: 126.1703\n",
            "Epoch 19/600\n",
            "19/19 [==============================] - 0s 3ms/step - loss: 101.2456 - val_loss: 107.9843\n",
            "Epoch 20/600\n",
            "19/19 [==============================] - 0s 3ms/step - loss: 85.3649 - val_loss: 91.5378\n",
            "Epoch 21/600\n",
            "19/19 [==============================] - 0s 3ms/step - loss: 71.5895 - val_loss: 78.4076\n",
            "Epoch 22/600\n",
            "19/19 [==============================] - 0s 3ms/step - loss: 60.1789 - val_loss: 66.0686\n",
            "Epoch 23/600\n",
            "19/19 [==============================] - 0s 3ms/step - loss: 50.8888 - val_loss: 58.5623\n",
            "Epoch 24/600\n",
            "19/19 [==============================] - 0s 3ms/step - loss: 44.0317 - val_loss: 49.8051\n",
            "Epoch 25/600\n",
            "19/19 [==============================] - 0s 3ms/step - loss: 37.3555 - val_loss: 43.5230\n",
            "Epoch 26/600\n",
            "19/19 [==============================] - 0s 3ms/step - loss: 32.3371 - val_loss: 37.7596\n",
            "Epoch 27/600\n",
            "19/19 [==============================] - 0s 3ms/step - loss: 27.8966 - val_loss: 33.4417\n",
            "Epoch 28/600\n",
            "19/19 [==============================] - 0s 3ms/step - loss: 24.4375 - val_loss: 29.0335\n",
            "Epoch 29/600\n",
            "19/19 [==============================] - 0s 3ms/step - loss: 21.3964 - val_loss: 26.3035\n",
            "Epoch 30/600\n",
            "19/19 [==============================] - 0s 3ms/step - loss: 18.6429 - val_loss: 23.0142\n",
            "Epoch 31/600\n",
            "19/19 [==============================] - 0s 3ms/step - loss: 16.5605 - val_loss: 20.6823\n",
            "Epoch 32/600\n",
            "19/19 [==============================] - 0s 3ms/step - loss: 14.5652 - val_loss: 18.5652\n",
            "Epoch 33/600\n",
            "19/19 [==============================] - 0s 3ms/step - loss: 13.1757 - val_loss: 16.6734\n",
            "Epoch 34/600\n",
            "19/19 [==============================] - 0s 3ms/step - loss: 11.8652 - val_loss: 14.6515\n",
            "Epoch 35/600\n",
            "19/19 [==============================] - 0s 3ms/step - loss: 10.5287 - val_loss: 14.2735\n",
            "Epoch 36/600\n",
            "19/19 [==============================] - 0s 3ms/step - loss: 9.8866 - val_loss: 12.2510\n",
            "Epoch 37/600\n",
            "19/19 [==============================] - 0s 3ms/step - loss: 8.9907 - val_loss: 11.2228\n",
            "Epoch 38/600\n",
            "19/19 [==============================] - 0s 4ms/step - loss: 7.9958 - val_loss: 10.8298\n",
            "Epoch 39/600\n",
            "19/19 [==============================] - 0s 3ms/step - loss: 7.4019 - val_loss: 11.0383\n",
            "Epoch 40/600\n",
            "19/19 [==============================] - 0s 4ms/step - loss: 6.9948 - val_loss: 8.9923\n",
            "Epoch 41/600\n",
            "19/19 [==============================] - 0s 3ms/step - loss: 6.3534 - val_loss: 8.8664\n",
            "Epoch 42/600\n",
            "19/19 [==============================] - 0s 3ms/step - loss: 5.9774 - val_loss: 7.8854\n",
            "Epoch 43/600\n",
            "19/19 [==============================] - 0s 3ms/step - loss: 5.6109 - val_loss: 7.5284\n",
            "Epoch 44/600\n",
            "19/19 [==============================] - 0s 3ms/step - loss: 5.3352 - val_loss: 6.8539\n",
            "Epoch 45/600\n",
            "19/19 [==============================] - 0s 3ms/step - loss: 4.9288 - val_loss: 6.4555\n",
            "Epoch 46/600\n",
            "19/19 [==============================] - 0s 4ms/step - loss: 4.6065 - val_loss: 6.2715\n",
            "Epoch 47/600\n",
            "19/19 [==============================] - 0s 3ms/step - loss: 4.4853 - val_loss: 5.9210\n",
            "Epoch 48/600\n",
            "19/19 [==============================] - 0s 3ms/step - loss: 4.0106 - val_loss: 5.3711\n",
            "Epoch 49/600\n",
            "19/19 [==============================] - 0s 3ms/step - loss: 3.8250 - val_loss: 5.1093\n",
            "Epoch 50/600\n",
            "19/19 [==============================] - 0s 3ms/step - loss: 3.6985 - val_loss: 6.8082\n",
            "Epoch 51/600\n",
            "19/19 [==============================] - 0s 3ms/step - loss: 3.5543 - val_loss: 4.7659\n",
            "Epoch 52/600\n",
            "19/19 [==============================] - 0s 3ms/step - loss: 3.3177 - val_loss: 4.3788\n",
            "Epoch 53/600\n",
            "19/19 [==============================] - 0s 3ms/step - loss: 3.0444 - val_loss: 5.6048\n",
            "Epoch 54/600\n",
            "19/19 [==============================] - 0s 3ms/step - loss: 3.1669 - val_loss: 4.5795\n",
            "Epoch 55/600\n",
            "19/19 [==============================] - 0s 3ms/step - loss: 2.8865 - val_loss: 3.8566\n",
            "Epoch 56/600\n",
            "19/19 [==============================] - 0s 3ms/step - loss: 2.8679 - val_loss: 3.5336\n",
            "Epoch 57/600\n",
            "19/19 [==============================] - 0s 3ms/step - loss: 2.5673 - val_loss: 3.6021\n",
            "Epoch 58/600\n",
            "19/19 [==============================] - 0s 3ms/step - loss: 2.4938 - val_loss: 3.3691\n",
            "Epoch 59/600\n",
            "19/19 [==============================] - 0s 3ms/step - loss: 2.3820 - val_loss: 3.8162\n",
            "Epoch 60/600\n",
            "19/19 [==============================] - 0s 3ms/step - loss: 2.3092 - val_loss: 3.0414\n",
            "Epoch 61/600\n",
            "19/19 [==============================] - 0s 3ms/step - loss: 2.1274 - val_loss: 2.8064\n",
            "Epoch 62/600\n",
            "19/19 [==============================] - 0s 3ms/step - loss: 2.0860 - val_loss: 2.9088\n",
            "Epoch 63/600\n",
            "19/19 [==============================] - 0s 3ms/step - loss: 1.8585 - val_loss: 3.3025\n",
            "Epoch 64/600\n",
            "19/19 [==============================] - 0s 3ms/step - loss: 1.8671 - val_loss: 3.2608\n",
            "Epoch 65/600\n",
            "19/19 [==============================] - 0s 3ms/step - loss: 1.7594 - val_loss: 2.3989\n",
            "Epoch 66/600\n",
            "19/19 [==============================] - 0s 3ms/step - loss: 1.6762 - val_loss: 2.8599\n",
            "Epoch 67/600\n",
            "19/19 [==============================] - 0s 3ms/step - loss: 1.6591 - val_loss: 2.2799\n",
            "Epoch 68/600\n",
            "19/19 [==============================] - 0s 3ms/step - loss: 1.6099 - val_loss: 2.7739\n",
            "Epoch 69/600\n",
            "19/19 [==============================] - 0s 3ms/step - loss: 1.5335 - val_loss: 2.0090\n",
            "Epoch 70/600\n",
            "19/19 [==============================] - 0s 3ms/step - loss: 1.3921 - val_loss: 2.3111\n",
            "Epoch 71/600\n",
            "19/19 [==============================] - 0s 3ms/step - loss: 1.3812 - val_loss: 1.8738\n",
            "Epoch 72/600\n",
            "19/19 [==============================] - 0s 3ms/step - loss: 1.3041 - val_loss: 1.9765\n",
            "Epoch 73/600\n",
            "19/19 [==============================] - 0s 3ms/step - loss: 1.2858 - val_loss: 1.8929\n",
            "Epoch 74/600\n",
            "19/19 [==============================] - 0s 3ms/step - loss: 1.1561 - val_loss: 2.8581\n",
            "Epoch 75/600\n",
            "19/19 [==============================] - 0s 3ms/step - loss: 1.2001 - val_loss: 1.9408\n",
            "Epoch 76/600\n",
            "19/19 [==============================] - 0s 3ms/step - loss: 1.1065 - val_loss: 1.5489\n",
            "Epoch 77/600\n",
            "19/19 [==============================] - 0s 3ms/step - loss: 1.0428 - val_loss: 1.4776\n",
            "Epoch 78/600\n",
            "19/19 [==============================] - 0s 3ms/step - loss: 0.9891 - val_loss: 1.5510\n",
            "Epoch 79/600\n",
            "19/19 [==============================] - 0s 3ms/step - loss: 0.9663 - val_loss: 1.5327\n",
            "Epoch 80/600\n",
            "19/19 [==============================] - 0s 3ms/step - loss: 1.0356 - val_loss: 1.9735\n",
            "Epoch 81/600\n",
            "19/19 [==============================] - 0s 3ms/step - loss: 0.9020 - val_loss: 1.2671\n",
            "Epoch 82/600\n",
            "19/19 [==============================] - 0s 3ms/step - loss: 0.8902 - val_loss: 1.2384\n",
            "Epoch 83/600\n",
            "19/19 [==============================] - 0s 3ms/step - loss: 0.7974 - val_loss: 1.7221\n",
            "Epoch 84/600\n",
            "19/19 [==============================] - 0s 3ms/step - loss: 0.8363 - val_loss: 1.2036\n",
            "Epoch 85/600\n",
            "19/19 [==============================] - 0s 3ms/step - loss: 0.8713 - val_loss: 1.1044\n",
            "Epoch 86/600\n",
            "19/19 [==============================] - 0s 3ms/step - loss: 0.7684 - val_loss: 1.2203\n",
            "Epoch 87/600\n",
            "19/19 [==============================] - 0s 3ms/step - loss: 0.6462 - val_loss: 1.8022\n",
            "Epoch 88/600\n",
            "19/19 [==============================] - 0s 3ms/step - loss: 0.7640 - val_loss: 1.1686\n",
            "Epoch 89/600\n",
            "19/19 [==============================] - 0s 3ms/step - loss: 0.7153 - val_loss: 1.2108\n",
            "Epoch 90/600\n",
            "19/19 [==============================] - 0s 3ms/step - loss: 0.7496 - val_loss: 0.9986\n",
            "Epoch 91/600\n",
            "19/19 [==============================] - 0s 3ms/step - loss: 0.6539 - val_loss: 1.0547\n",
            "Epoch 92/600\n",
            "19/19 [==============================] - 0s 3ms/step - loss: 0.6841 - val_loss: 1.0569\n",
            "Epoch 93/600\n",
            "19/19 [==============================] - 0s 2ms/step - loss: 0.6275 - val_loss: 0.9414\n",
            "Epoch 94/600\n",
            "19/19 [==============================] - 0s 3ms/step - loss: 0.6578 - val_loss: 0.8831\n",
            "Epoch 95/600\n",
            "19/19 [==============================] - 0s 3ms/step - loss: 0.5732 - val_loss: 0.8758\n",
            "Epoch 96/600\n",
            "19/19 [==============================] - 0s 3ms/step - loss: 0.5597 - val_loss: 1.8179\n",
            "Epoch 97/600\n",
            "19/19 [==============================] - 0s 3ms/step - loss: 0.5746 - val_loss: 0.8676\n",
            "Epoch 98/600\n",
            "19/19 [==============================] - 0s 3ms/step - loss: 0.4738 - val_loss: 0.8129\n",
            "Epoch 99/600\n",
            "19/19 [==============================] - 0s 3ms/step - loss: 0.6413 - val_loss: 0.7762\n",
            "Epoch 100/600\n",
            "19/19 [==============================] - 0s 3ms/step - loss: 0.5468 - val_loss: 1.1325\n",
            "Epoch 101/600\n",
            "19/19 [==============================] - 0s 3ms/step - loss: 0.5309 - val_loss: 0.7923\n",
            "Epoch 102/600\n",
            "19/19 [==============================] - 0s 3ms/step - loss: 0.5189 - val_loss: 0.8535\n",
            "Epoch 103/600\n",
            "19/19 [==============================] - 0s 3ms/step - loss: 0.5299 - val_loss: 0.7771\n",
            "Epoch 104/600\n",
            "19/19 [==============================] - 0s 3ms/step - loss: 0.5414 - val_loss: 0.7131\n",
            "Epoch 105/600\n",
            "19/19 [==============================] - 0s 3ms/step - loss: 0.4674 - val_loss: 1.2138\n",
            "Epoch 106/600\n",
            "19/19 [==============================] - 0s 3ms/step - loss: 0.4437 - val_loss: 0.7094\n",
            "Epoch 107/600\n",
            "19/19 [==============================] - 0s 3ms/step - loss: 0.5417 - val_loss: 0.9014\n",
            "Epoch 108/600\n",
            "19/19 [==============================] - 0s 3ms/step - loss: 0.4126 - val_loss: 0.8252\n",
            "Epoch 109/600\n",
            "19/19 [==============================] - 0s 3ms/step - loss: 0.4440 - val_loss: 0.8463\n",
            "Epoch 110/600\n",
            "19/19 [==============================] - 0s 3ms/step - loss: 0.4683 - val_loss: 0.7454\n",
            "Epoch 111/600\n",
            "19/19 [==============================] - 0s 3ms/step - loss: 0.4024 - val_loss: 0.6787\n",
            "Epoch 112/600\n",
            "19/19 [==============================] - 0s 3ms/step - loss: 0.4481 - val_loss: 1.1710\n",
            "Epoch 113/600\n",
            "19/19 [==============================] - 0s 3ms/step - loss: 0.4417 - val_loss: 0.7146\n",
            "Epoch 114/600\n",
            "19/19 [==============================] - 0s 3ms/step - loss: 0.4649 - val_loss: 0.8200\n",
            "Epoch 115/600\n",
            "19/19 [==============================] - 0s 3ms/step - loss: 0.3554 - val_loss: 0.6919\n",
            "Epoch 116/600\n",
            "19/19 [==============================] - 0s 3ms/step - loss: 0.4395 - val_loss: 0.6690\n",
            "Epoch 117/600\n",
            "19/19 [==============================] - 0s 3ms/step - loss: 0.4162 - val_loss: 0.6404\n",
            "Epoch 118/600\n",
            "19/19 [==============================] - 0s 3ms/step - loss: 0.3678 - val_loss: 0.7104\n",
            "Epoch 119/600\n",
            "19/19 [==============================] - 0s 4ms/step - loss: 0.4772 - val_loss: 0.6148\n",
            "Epoch 120/600\n",
            "19/19 [==============================] - 0s 3ms/step - loss: 0.3936 - val_loss: 0.8034\n",
            "Epoch 121/600\n",
            "19/19 [==============================] - 0s 3ms/step - loss: 0.3576 - val_loss: 0.6702\n",
            "Epoch 122/600\n",
            "19/19 [==============================] - 0s 3ms/step - loss: 0.3864 - val_loss: 0.6071\n",
            "Epoch 123/600\n",
            "19/19 [==============================] - 0s 3ms/step - loss: 0.4608 - val_loss: 0.6298\n",
            "Epoch 124/600\n",
            "19/19 [==============================] - 0s 3ms/step - loss: 0.3168 - val_loss: 0.5857\n",
            "Epoch 125/600\n",
            "19/19 [==============================] - 0s 3ms/step - loss: 0.3406 - val_loss: 0.6946\n",
            "Epoch 126/600\n",
            "19/19 [==============================] - 0s 3ms/step - loss: 0.3543 - val_loss: 0.7854\n",
            "Epoch 127/600\n",
            "19/19 [==============================] - 0s 3ms/step - loss: 0.3630 - val_loss: 0.6877\n",
            "Epoch 128/600\n",
            "19/19 [==============================] - 0s 3ms/step - loss: 0.3237 - val_loss: 0.6264\n",
            "Epoch 129/600\n",
            "19/19 [==============================] - 0s 3ms/step - loss: 0.4147 - val_loss: 1.1008\n",
            "Epoch 130/600\n",
            "19/19 [==============================] - 0s 3ms/step - loss: 0.3958 - val_loss: 0.5830\n",
            "Epoch 131/600\n",
            "19/19 [==============================] - 0s 3ms/step - loss: 0.3216 - val_loss: 0.6171\n",
            "Epoch 132/600\n",
            "19/19 [==============================] - 0s 3ms/step - loss: 0.3348 - val_loss: 0.6205\n",
            "Epoch 133/600\n",
            "19/19 [==============================] - 0s 3ms/step - loss: 0.4107 - val_loss: 0.5569\n",
            "Epoch 134/600\n",
            "19/19 [==============================] - 0s 3ms/step - loss: 0.2930 - val_loss: 0.6277\n",
            "Epoch 135/600\n",
            "19/19 [==============================] - 0s 3ms/step - loss: 0.3943 - val_loss: 0.5371\n",
            "Epoch 136/600\n",
            "19/19 [==============================] - 0s 3ms/step - loss: 0.3061 - val_loss: 0.5986\n",
            "Epoch 137/600\n",
            "19/19 [==============================] - 0s 4ms/step - loss: 0.3091 - val_loss: 0.6137\n",
            "Epoch 138/600\n",
            "19/19 [==============================] - 0s 3ms/step - loss: 0.3039 - val_loss: 0.5611\n",
            "Epoch 139/600\n",
            "19/19 [==============================] - 0s 3ms/step - loss: 0.3182 - val_loss: 0.5606\n",
            "Epoch 140/600\n",
            "19/19 [==============================] - 0s 3ms/step - loss: 0.3173 - val_loss: 0.5155\n",
            "Epoch 141/600\n",
            "19/19 [==============================] - 0s 3ms/step - loss: 0.3313 - val_loss: 0.5893\n",
            "Epoch 142/600\n",
            "19/19 [==============================] - 0s 3ms/step - loss: 0.3124 - val_loss: 0.5643\n",
            "Epoch 143/600\n",
            "19/19 [==============================] - 0s 3ms/step - loss: 0.3560 - val_loss: 0.8616\n",
            "Epoch 144/600\n",
            "19/19 [==============================] - 0s 3ms/step - loss: 0.2970 - val_loss: 0.5367\n",
            "Epoch 145/600\n",
            "19/19 [==============================] - 0s 4ms/step - loss: 0.2934 - val_loss: 0.8885\n",
            "Epoch 146/600\n",
            "19/19 [==============================] - 0s 3ms/step - loss: 0.3149 - val_loss: 0.7583\n",
            "Epoch 147/600\n",
            "19/19 [==============================] - 0s 3ms/step - loss: 0.3041 - val_loss: 0.9303\n",
            "Epoch 148/600\n",
            "19/19 [==============================] - 0s 3ms/step - loss: 0.2420 - val_loss: 1.0230\n",
            "Epoch 149/600\n",
            "19/19 [==============================] - 0s 3ms/step - loss: 0.3551 - val_loss: 0.6950\n",
            "Epoch 150/600\n",
            "19/19 [==============================] - 0s 3ms/step - loss: 0.2905 - val_loss: 0.5744\n",
            "Epoch 151/600\n",
            "19/19 [==============================] - 0s 3ms/step - loss: 0.2753 - val_loss: 0.9969\n",
            "Epoch 152/600\n",
            "19/19 [==============================] - 0s 4ms/step - loss: 0.3022 - val_loss: 0.5185\n",
            "Epoch 153/600\n",
            "19/19 [==============================] - 0s 3ms/step - loss: 0.2652 - val_loss: 0.5749\n",
            "Epoch 154/600\n",
            "19/19 [==============================] - 0s 3ms/step - loss: 0.3452 - val_loss: 0.5491\n",
            "Epoch 155/600\n",
            "19/19 [==============================] - 0s 3ms/step - loss: 0.2944 - val_loss: 0.6187\n",
            "Epoch 156/600\n",
            "19/19 [==============================] - 0s 3ms/step - loss: 0.2301 - val_loss: 0.4704\n",
            "Epoch 157/600\n",
            "19/19 [==============================] - 0s 3ms/step - loss: 0.3211 - val_loss: 0.8505\n",
            "Epoch 158/600\n",
            "19/19 [==============================] - 0s 3ms/step - loss: 0.3286 - val_loss: 0.5039\n",
            "Epoch 159/600\n",
            "19/19 [==============================] - 0s 3ms/step - loss: 0.2618 - val_loss: 0.5181\n",
            "Epoch 160/600\n",
            "19/19 [==============================] - 0s 3ms/step - loss: 0.2697 - val_loss: 0.4863\n",
            "Epoch 161/600\n",
            "19/19 [==============================] - 0s 3ms/step - loss: 0.3077 - val_loss: 0.7139\n",
            "Epoch 162/600\n",
            "19/19 [==============================] - 0s 3ms/step - loss: 0.2686 - val_loss: 0.4589\n",
            "Epoch 163/600\n",
            "19/19 [==============================] - 0s 3ms/step - loss: 0.2862 - val_loss: 0.6122\n",
            "Epoch 164/600\n",
            "19/19 [==============================] - 0s 3ms/step - loss: 0.2824 - val_loss: 0.5614\n",
            "Epoch 165/600\n",
            "19/19 [==============================] - 0s 3ms/step - loss: 0.2795 - val_loss: 0.6863\n",
            "Epoch 166/600\n",
            "19/19 [==============================] - 0s 3ms/step - loss: 0.2498 - val_loss: 0.4884\n",
            "Epoch 167/600\n",
            "19/19 [==============================] - 0s 3ms/step - loss: 0.2865 - val_loss: 0.4333\n",
            "Epoch 168/600\n",
            "19/19 [==============================] - 0s 3ms/step - loss: 0.3238 - val_loss: 0.6550\n",
            "Epoch 169/600\n",
            "19/19 [==============================] - 0s 3ms/step - loss: 0.2554 - val_loss: 0.7212\n",
            "Epoch 170/600\n",
            "19/19 [==============================] - 0s 3ms/step - loss: 0.3259 - val_loss: 0.4712\n",
            "Epoch 171/600\n",
            "19/19 [==============================] - 0s 3ms/step - loss: 0.2457 - val_loss: 0.4534\n",
            "Epoch 172/600\n",
            "19/19 [==============================] - 0s 3ms/step - loss: 0.2440 - val_loss: 0.6840\n",
            "Epoch 173/600\n",
            "19/19 [==============================] - 0s 3ms/step - loss: 0.2721 - val_loss: 0.7456\n",
            "Epoch 174/600\n",
            "19/19 [==============================] - 0s 3ms/step - loss: 0.3211 - val_loss: 0.4430\n",
            "Epoch 175/600\n",
            "19/19 [==============================] - 0s 3ms/step - loss: 0.2559 - val_loss: 0.5018\n",
            "Epoch 176/600\n",
            "19/19 [==============================] - 0s 3ms/step - loss: 0.2461 - val_loss: 0.4193\n",
            "Epoch 177/600\n",
            "19/19 [==============================] - 0s 4ms/step - loss: 0.2435 - val_loss: 0.7347\n",
            "Epoch 178/600\n",
            "19/19 [==============================] - 0s 3ms/step - loss: 0.2690 - val_loss: 1.0387\n",
            "Epoch 179/600\n",
            "19/19 [==============================] - 0s 3ms/step - loss: 0.3213 - val_loss: 0.5938\n",
            "Epoch 180/600\n",
            "19/19 [==============================] - 0s 4ms/step - loss: 0.1475 - val_loss: 1.5555\n",
            "Epoch 181/600\n",
            "19/19 [==============================] - 0s 3ms/step - loss: 0.2642 - val_loss: 1.1435\n",
            "Epoch 182/600\n",
            "19/19 [==============================] - 0s 3ms/step - loss: 0.2591 - val_loss: 1.0142\n",
            "Epoch 183/600\n",
            "19/19 [==============================] - 0s 4ms/step - loss: 0.3066 - val_loss: 0.9699\n",
            "Epoch 184/600\n",
            "19/19 [==============================] - 0s 3ms/step - loss: 0.1641 - val_loss: 1.3016\n",
            "Epoch 185/600\n",
            "19/19 [==============================] - 0s 4ms/step - loss: 0.2655 - val_loss: 0.6155\n",
            "Epoch 186/600\n",
            "19/19 [==============================] - 0s 3ms/step - loss: 0.3435 - val_loss: 0.6526\n",
            "Epoch 187/600\n",
            "19/19 [==============================] - 0s 3ms/step - loss: 0.2454 - val_loss: 0.4525\n",
            "Epoch 188/600\n",
            "19/19 [==============================] - 0s 4ms/step - loss: 0.1848 - val_loss: 0.4761\n",
            "Epoch 189/600\n",
            "19/19 [==============================] - 0s 3ms/step - loss: 0.2531 - val_loss: 0.5261\n",
            "Epoch 190/600\n",
            "19/19 [==============================] - 0s 4ms/step - loss: 0.2785 - val_loss: 0.4873\n",
            "Epoch 191/600\n",
            "19/19 [==============================] - 0s 3ms/step - loss: 0.1900 - val_loss: 0.5765\n",
            "Epoch 192/600\n",
            "19/19 [==============================] - 0s 3ms/step - loss: 0.2674 - val_loss: 0.4932\n",
            "Epoch 193/600\n",
            "19/19 [==============================] - 0s 3ms/step - loss: 0.1880 - val_loss: 0.4297\n",
            "Epoch 194/600\n",
            "19/19 [==============================] - 0s 3ms/step - loss: 0.2537 - val_loss: 1.3884\n",
            "Epoch 195/600\n",
            "19/19 [==============================] - 0s 4ms/step - loss: 0.2703 - val_loss: 0.6262\n",
            "Epoch 196/600\n",
            "19/19 [==============================] - 0s 3ms/step - loss: 0.2881 - val_loss: 0.4285\n",
            "Epoch 00196: early stopping\n"
          ]
        },
        {
          "output_type": "execute_result",
          "data": {
            "text/plain": [
              "<keras.callbacks.History at 0x7f5b220d6790>"
            ]
          },
          "metadata": {},
          "execution_count": 138
        }
      ]
    },
    {
      "cell_type": "code",
      "metadata": {
        "colab": {
          "base_uri": "https://localhost:8080/"
        },
        "id": "tIEnY5Wsxb6q",
        "outputId": "02c44dd3-d087-44c0-9671-bff9fbc4686c"
      },
      "source": [
        "loss = pd.DataFrame(ann.history.history)\n",
        "loss.head()"
      ],
      "execution_count": null,
      "outputs": [
        {
          "output_type": "execute_result",
          "data": {
            "text/html": [
              "<div>\n",
              "<style scoped>\n",
              "    .dataframe tbody tr th:only-of-type {\n",
              "        vertical-align: middle;\n",
              "    }\n",
              "\n",
              "    .dataframe tbody tr th {\n",
              "        vertical-align: top;\n",
              "    }\n",
              "\n",
              "    .dataframe thead th {\n",
              "        text-align: right;\n",
              "    }\n",
              "</style>\n",
              "<table border=\"1\" class=\"dataframe\">\n",
              "  <thead>\n",
              "    <tr style=\"text-align: right;\">\n",
              "      <th></th>\n",
              "      <th>loss</th>\n",
              "      <th>val_loss</th>\n",
              "    </tr>\n",
              "  </thead>\n",
              "  <tbody>\n",
              "    <tr>\n",
              "      <th>0</th>\n",
              "      <td>4604.475586</td>\n",
              "      <td>4512.268066</td>\n",
              "    </tr>\n",
              "    <tr>\n",
              "      <th>1</th>\n",
              "      <td>4395.438477</td>\n",
              "      <td>4269.858887</td>\n",
              "    </tr>\n",
              "    <tr>\n",
              "      <th>2</th>\n",
              "      <td>4127.688965</td>\n",
              "      <td>3953.901855</td>\n",
              "    </tr>\n",
              "    <tr>\n",
              "      <th>3</th>\n",
              "      <td>3784.540771</td>\n",
              "      <td>3553.038330</td>\n",
              "    </tr>\n",
              "    <tr>\n",
              "      <th>4</th>\n",
              "      <td>3356.899902</td>\n",
              "      <td>3065.954346</td>\n",
              "    </tr>\n",
              "  </tbody>\n",
              "</table>\n",
              "</div>"
            ],
            "text/plain": [
              "          loss     val_loss\n",
              "0  4604.475586  4512.268066\n",
              "1  4395.438477  4269.858887\n",
              "2  4127.688965  3953.901855\n",
              "3  3784.540771  3553.038330\n",
              "4  3356.899902  3065.954346"
            ]
          },
          "metadata": {},
          "execution_count": 139
        }
      ]
    },
    {
      "cell_type": "code",
      "metadata": {
        "colab": {
          "base_uri": "https://localhost:8080/"
        },
        "id": "DZiAD2UpYENs",
        "outputId": "ca617b3b-f323-4dcb-ac79-78c7c97681ca"
      },
      "source": [
        "\n",
        "lossdf.plot()"
      ],
      "execution_count": null,
      "outputs": [
        {
          "output_type": "execute_result",
          "data": {
            "text/plain": [
              "<matplotlib.axes._subplots.AxesSubplot at 0x7f5b21f52710>"
            ]
          },
          "metadata": {},
          "execution_count": 140
        },
        {
          "output_type": "display_data",
          "data": {
            "image/png": "[encoded data removed]",
            "text/plain": [
              "<Figure size 432x288 with 1 Axes>"
            ]
          },
          "metadata": {}
        }
      ]
    },
    {
      "cell_type": "code",
      "metadata": {
        "id": "f_5dJSTUY6c2"
      },
      "source": [
        "ypred2 = ann.predict(xtest)"
      ],
      "execution_count": null,
      "outputs": []
    },
    {
      "cell_type": "code",
      "metadata": {
        "id": "r8nTMZ5oY6nu"
      },
      "source": [
        "dic2 = {\"Actual Y\":ytest, \"Predicted Y\":ypred2.flatten()}\n",
        "\n",
        "df2 = pd.DataFrame(dic2)"
      ],
      "execution_count": null,
      "outputs": []
    },
    {
      "cell_type": "code",
      "metadata": {
        "colab": {
          "base_uri": "https://localhost:8080/"
        },
        "id": "GYaiPIaDY6qr",
        "outputId": "c902a56e-f09b-41f8-d920-34b115de6e01"
      },
      "source": [
        "df2.head()"
      ],
      "execution_count": null,
      "outputs": [
        {
          "output_type": "execute_result",
          "data": {
            "text/html": [
              "<div>\n",
              "<style scoped>\n",
              "    .dataframe tbody tr th:only-of-type {\n",
              "        vertical-align: middle;\n",
              "    }\n",
              "\n",
              "    .dataframe tbody tr th {\n",
              "        vertical-align: top;\n",
              "    }\n",
              "\n",
              "    .dataframe thead th {\n",
              "        text-align: right;\n",
              "    }\n",
              "</style>\n",
              "<table border=\"1\" class=\"dataframe\">\n",
              "  <thead>\n",
              "    <tr style=\"text-align: right;\">\n",
              "      <th></th>\n",
              "      <th>Actual Y</th>\n",
              "      <th>Predicted Y</th>\n",
              "    </tr>\n",
              "  </thead>\n",
              "  <tbody>\n",
              "    <tr>\n",
              "      <th>0</th>\n",
              "      <td>56.000000</td>\n",
              "      <td>55.613834</td>\n",
              "    </tr>\n",
              "    <tr>\n",
              "      <th>1</th>\n",
              "      <td>66.666667</td>\n",
              "      <td>66.474701</td>\n",
              "    </tr>\n",
              "    <tr>\n",
              "      <th>2</th>\n",
              "      <td>72.000000</td>\n",
              "      <td>71.658119</td>\n",
              "    </tr>\n",
              "    <tr>\n",
              "      <th>3</th>\n",
              "      <td>55.333333</td>\n",
              "      <td>55.522675</td>\n",
              "    </tr>\n",
              "    <tr>\n",
              "      <th>4</th>\n",
              "      <td>54.333333</td>\n",
              "      <td>53.979431</td>\n",
              "    </tr>\n",
              "  </tbody>\n",
              "</table>\n",
              "</div>"
            ],
            "text/plain": [
              "    Actual Y  Predicted Y\n",
              "0  56.000000    55.613834\n",
              "1  66.666667    66.474701\n",
              "2  72.000000    71.658119\n",
              "3  55.333333    55.522675\n",
              "4  54.333333    53.979431"
            ]
          },
          "metadata": {},
          "execution_count": 143
        }
      ]
    },
    {
      "cell_type": "code",
      "metadata": {
        "colab": {
          "base_uri": "https://localhost:8080/",
          "height": 54
        },
        "id": "tLRXtkv5rD6I",
        "outputId": "40425ba1-d6b3-4f37-90b9-775de72ee4d9"
      },
      "source": [
        "sns.scatterplot(x=\"Actual Y\", y=\"Predicted Y\", data=df2)\n",
        "plt.show()"
      ],
      "execution_count": null,
      "outputs": [
        {
          "output_type": "display_data",
          "data": {
            "image/png": "[encoded data removed]",
            "text/plain": [
              "<Figure size 432x288 with 1 Axes>"
            ]
          },
          "metadata": {}
        }
      ]
    },
    {
      "cell_type": "code",
      "metadata": {
        "colab": {
          "base_uri": "https://localhost:8080/"
        },
        "id": "QqSsgCBOZlrR",
        "outputId": "a79baca1-895d-4149-ff0b-c54401a64351"
      },
      "source": [
        "print(f\"MSE -: {mean_squared_error(ytest, ypred2)}\")\n",
        "print(f\"RMSE -: {np.sqrt(mean_squared_error(ytest, ypred2))}\") "
      ],
      "execution_count": null,
      "outputs": [
        {
          "output_type": "stream",
          "name": "stdout",
          "text": [
            "MSE -: 0.4284955497908322\n",
            "RMSE -: 0.6545957147666277\n"
          ]
        }
      ]
    }
  ]
}